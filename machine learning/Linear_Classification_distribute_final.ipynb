{
  "nbformat": 4,
  "nbformat_minor": 0,
  "metadata": {
    "colab": {
      "name": "[Week5]_Linear_Classification_distribute_final.ipynb",
      "provenance": [],
      "collapsed_sections": []
    },
    "kernelspec": {
      "display_name": "Python 3",
      "language": "python",
      "name": "python3"
    },
    "language_info": {
      "codemirror_mode": {
        "name": "ipython",
        "version": 3
      },
      "file_extension": ".py",
      "mimetype": "text/x-python",
      "name": "python",
      "nbconvert_exporter": "python",
      "pygments_lexer": "ipython3",
      "version": "3.7.4"
    }
  },
  "cells": [
    {
      "cell_type": "markdown",
      "metadata": {
        "id": "Tbe67ozptFU9"
      },
      "source": [
        "# **[Week 5] Linear Classification**\n"
      ]
    },
    {
      "cell_type": "markdown",
      "metadata": {
        "id": "xpDbINr9Kzdt"
      },
      "source": [
        "# **Notice**\n",
        "**Practice session evaluation criteria**\n",
        "\n",
        "(10% in total) Evaluation will be based on attitude towards learning, participation and demonstrated performance/progresses throughout practice sessions\n",
        "\n",
        "In each unit, we will be monitoring whether you are learning what you need to learn: ability to implement the basic concepts, rather than your coding skills per se. We will not do a strict evaluation of whether your results are correct or not. We just want to be sure whether you are going in the right direction.\n",
        "\n",
        "Practice session proceedings\n",
        "- **Leave message (student_ID, name) via zoom chatting before 1:10PM (for the attendence check)**\n",
        "- 15-20 min code skeleton description / individual code practice until 2:15PM\n",
        "- The correct code (fully implemented by TAs) will be uploaded after class in KLMS\n",
        "- After code explanation, each of you will be assigned to 1:1 zoom meeting room\n",
        "- TAs will rotationally visit everyone's zoom meeting room to check your progress. **So if you want to leave this meeting, you have to see a TA at least once.**\n",
        "- You must share your colab screen in the 1:1 zoom meeting room\n",
        "- If you need urgent call, you can leave message in the open kakao chat room\n",
        "- You can ask question via kakao talk (zoom chat in 1:1 zoom meeting room will not be delivered to TAs)\n",
        "- If kakao talk program is not installed, please ask questions via an e-mail"
      ]
    },
    {
      "cell_type": "markdown",
      "metadata": {
        "id": "r1i-ABOaKy_Q"
      },
      "source": [
        "# **Linear Classification Practice**\n",
        "## **Objective**\n",
        "* Implement a Perceptron Classifier\n",
        "* Understand and Implement Gradient Descent on Synthetic Data\n",
        "  * Compute Loss and Gradients of Perceptron \n",
        "  * Apply Gradient Descent on Perceptron Weights and Bias\n",
        "  * Train a Perceptron with Stochastic Gradient Descent (SGD)\n",
        "  * Train a Perceptron with mini-Batch Gradient Descent (SGD)\n",
        "  * (Optional) Train a Perceptron with SGD Using Scikit-Learn Package \n",
        "+ (Optional) Implement a Perceptron and train perceptron on different dataset\n"
      ]
    },
    {
      "cell_type": "code",
      "metadata": {
        "id": "U8ybvebo5y4s"
      },
      "source": [
        "# Setting\n",
        "import numpy as np\n",
        "import sklearn\n",
        "\n",
        "import matplotlib.pyplot as plt"
      ],
      "execution_count": null,
      "outputs": []
    },
    {
      "cell_type": "markdown",
      "metadata": {
        "id": "EjVCjIrqldfC"
      },
      "source": [
        "# **Task 1: Train a Linear Classifier on Synthetic Data**"
      ]
    },
    {
      "cell_type": "markdown",
      "metadata": {
        "id": "tZQl6d25F52Z"
      },
      "source": [
        "### Generating Synthetic Data from Gaussian Distribution \n",
        "* Generate synthetic training data that follows two different gaussian distributions with different mean and variance\n",
        "* Generate synthetic test data that follows same distributions with training data\n",
        "* Plot the sample training data points."
      ]
    },
    {
      "cell_type": "code",
      "metadata": {
        "colab": {
          "base_uri": "https://localhost:8080/",
          "height": 265
        },
        "id": "L6E2E97CGGyc",
        "outputId": "e7e7ca82-51c4-46a5-e807-9e11e74953cb"
      },
      "source": [
        "# generate samples from normal distributions with two dimensional\n",
        "np.random.seed(0)\n",
        "n = 100 # size of samples\n",
        "X1 = np.random.normal(loc=(5, 10), scale=5, size=(n, 2)) # loc and scale indicate mean and variance\n",
        "X2 = np.random.normal(loc=(20, 20), scale=5, size=(n, 2)) # X1 and X2 have different mean\n",
        "T1 = np.ones(n)\n",
        "T2 = np.ones(n) * -1                      # labeling as 1 for X1 and -1 for X2\n",
        "\n",
        "# concatenate X1 and X2\n",
        "X_train = np.concatenate((X1, X2))\n",
        "T_train = np.concatenate((T1, T2))\n",
        "\n",
        "X1_test = np.random.normal(loc=(5, 10), scale=5, size=(n, 2)) # loc and scale indicate mean and variance\n",
        "X2_test = np.random.normal(loc=(20, 20), scale=5, size=(n, 2)) # X1 and X2 have different mean\n",
        "T1_test = np.ones(n)\n",
        "T2_test = np.ones(n) * -1                      # labeling as 1 for X1 and -1 for X2\n",
        "\n",
        "# concatenate X1 and X2\n",
        "X_test = np.concatenate((X1_test, X2_test))\n",
        "T_test = np.concatenate((T1_test, T2_test))\n",
        "\n",
        "plt.scatter(X_train[T_train==1][:, 0].T, X_train[T_train==1][:, 1].T, color='b', edgecolor='k', label='label : 1', s=35)\n",
        "plt.scatter(X_train[T_train==-1][:, 0].T, X_train[T_train==-1][:, 1].T, color='r', edgecolor='k', label='label : -1', s=35)\n",
        "plt.grid(True)\n",
        "plt.legend()\n",
        "\n",
        "axes = plt.gca() \n",
        "x_min, x_max = axes.get_xlim() \n",
        "y_min, y_max = axes.get_ylim()\n",
        "\n",
        "xx, yy = np.meshgrid(np.linspace(x_min, x_max, 30), np.linspace(y_min, y_max, 30)) # 30 grids for each axis\n",
        "grids = np.c_[xx.ravel(), yy.ravel()]\n",
        "\n",
        "ab = np.array([-0.4, -0.3])\n",
        "c = np.array([8])\n",
        "\n",
        "\n",
        "Z = grids@ab + c\n",
        "plt.contour(xx, yy, Z.reshape(xx.shape), levels=[0], colors='k')\n",
        "\n",
        "plt.show()"
      ],
      "execution_count": null,
      "outputs": [
        {
          "data": {
            "image/png": "[encoded data removed]",
            "text/plain": [
              "<Figure size 432x288 with 1 Axes>"
            ]
          },
          "metadata": {},
          "output_type": "display_data"
        }
      ]
    },
    {
      "cell_type": "markdown",
      "metadata": {
        "id": "BVN2vI_yI8fA"
      },
      "source": [
        "## **Task 1-1: Random Search**\n",
        "\n",
        "* Implement and evaluate the most simplest baseline method of random search"
      ]
    },
    {
      "cell_type": "code",
      "metadata": {
        "id": "gx_X2S4lIrYe"
      },
      "source": [
        "best_acc = 0\n",
        "max_iter = 1000\n",
        "Pred_acc_best = 0\n",
        "np.random.seed(0)\n",
        "for i in range(max_iter):\n",
        "  ab = np.random.normal(size=2) # Randomly Generate the Classifier Parameters \n",
        "  c = np.random.normal(size=1)\n",
        "  Pred_train = np.matmul(X_train, ab) + c\n",
        "  Y_train = 2 * ((Pred_train) >= 0) - 1 \n",
        "  Pred_acc = np.sum((Y_train == T_train)) / len(Y_train)\n",
        "  if Pred_acc >= Pred_acc_best:\n",
        "    Pred_acc_best = Pred_acc # Update the Best Parameter Whenever the Best Training Sampple Accuracy Is Updated \n",
        "    best_ab = ab\n",
        "    best_c = c"
      ],
      "execution_count": null,
      "outputs": []
    },
    {
      "cell_type": "code",
      "metadata": {
        "colab": {
          "base_uri": "https://localhost:8080/",
          "height": 301
        },
        "id": "WDJ5FnNxU2D-",
        "outputId": "7661df02-ccd2-488e-9605-9a5fe4b27906"
      },
      "source": [
        "Pred_train = X_train@best_ab + best_c\n",
        "Y_train = 2 * ((Pred_train) >= 0) - 1\n",
        "Pred_acc_train = np.sum((Y_train == T_train)) / len(Y_train)\n",
        "\n",
        "Pred_test = X_test@best_ab + best_c\n",
        "Y_test = 2 * ((Pred_test) >= 0) - 1\n",
        "Pred_acc_test = np.sum((Y_test == T_test)) / len(Y_test)\n",
        "\n",
        "# Visualize\n",
        "plt.scatter(X_train[T_train==1][:, 0].T, X_train[T_train==1][:, 1].T, color='b', edgecolor='k', label='label : 1', s=35)\n",
        "plt.scatter(X_train[T_train==-1][:, 0].T, X_train[T_train==-1][:, 1].T, color='r', edgecolor='k', label='label : -1', s=35)\n",
        "plt.grid(True)\n",
        "plt.legend()\n",
        "\n",
        "Z = grids@best_ab + best_c\n",
        "plt.contour(xx, yy, Z.reshape(xx.shape), levels=[0], colors='k')\n",
        "plt.contourf(xx, yy, Z.reshape(xx.shape), cmap='RdBu', alpha=0.7)\n",
        "plt.show()\n",
        "\n",
        "#Print Accuracy\n",
        "print('Training Accuracy :{:.2f}%'.format(100*Pred_acc_train))\n",
        "print('Test Accuracy :{:.2f}%'.format(100*Pred_acc_test))"
      ],
      "execution_count": null,
      "outputs": [
        {
          "data": {
            "image/png": "[encoded data removed]",
            "text/plain": [
              "<Figure size 432x288 with 1 Axes>"
            ]
          },
          "metadata": {},
          "output_type": "display_data"
        },
        {
          "name": "stdout",
          "output_type": "stream",
          "text": [
            "Training Accuracy :84.00%\n",
            "Test Accuracy :84.00%\n"
          ]
        }
      ]
    },
    {
      "cell_type": "markdown",
      "metadata": {
        "id": "1KC6sn5vMqQG"
      },
      "source": [
        "## **Task 1-2: Train a Linear Classifier (Perceptron) with Gradient Descent**\n",
        "**Objective:** Compute Loss and Gradients in Perceptron, and Update Parameters of Perceptron\n",
        "\n",
        "* Compute loss of Perceptron (refer to the page 15 in Lecture Note)\n",
        "* Compute Gradients by differentiating the loss (refer to the page 16-19 in Lecture Note)\n",
        "* Update parameters by Gradient Descent (refer to the page 16-19 in Lecture Note)"
      ]
    },
    {
      "cell_type": "code",
      "metadata": {
        "id": "Xn3iro5-OZP_"
      },
      "source": [
        "max_iter = 1000\n",
        "learning_rate = 0.01\n",
        "np.random.seed(0)\n",
        "ab = np.random.normal(size=2)   # Randomly Generate the Classifier Parameters \n",
        "c = np.random.normal(size=1)\n",
        "\n",
        "for i in range(max_iter):\n",
        "\n",
        "  #Step 1: Make a perceptron (refer to page 15)\n",
        "  Pred_train = np.matmul(X_train, ab) + c\n",
        "  Y_train = 2 * ((Pred_train) >= 0) - 1\n",
        "  \n",
        "  #Step 2: Compute the loss (refer to page 16)\n",
        "  loss = np.sum(Pred_train * (Y_train-T_train))\n",
        "\n",
        "  #Step 3: Compute the gradients of each dimension (refer to page 16)\n",
        "  grad_a = np.sum(X_train[:,0] * (Y_train - T_train))\n",
        "  grad_b = np.sum(X_train[:,1] * (Y_train - T_train))\n",
        "  grad_c = np.sum((Y_train - T_train))\n",
        "  \n",
        "  #Step 4: Update the weights (refer to page 16)\n",
        "  ab[0] -= learning_rate * grad_a\n",
        "  ab[1] -= learning_rate * grad_b\n",
        "  c -= learning_rate * grad_c\n",
        "    \n"
      ],
      "execution_count": null,
      "outputs": []
    },
    {
      "cell_type": "code",
      "metadata": {
        "colab": {
          "base_uri": "https://localhost:8080/",
          "height": 301
        },
        "id": "SzK53jxdU2EE",
        "outputId": "22e8ee12-8c2d-42ff-a667-1300fb02d1d2"
      },
      "source": [
        "Pred_train = X_train@ab + c\n",
        "Y_train = 2 * ((Pred_train) >= 0) - 1\n",
        "Pred_acc_train = np.sum((Y_train == T_train)) / len(Y_train)\n",
        "\n",
        "Pred_test = X_test@ab + c\n",
        "Y_test = 2 * ((Pred_test) >= 0) - 1\n",
        "Pred_acc_test = np.sum((Y_test == T_test)) / len(Y_test)\n",
        "\n",
        "# Visualize\n",
        "plt.scatter(X_train[T_train==1][:, 0].T, X_train[T_train==1][:, 1].T, color='b', edgecolor='k', label='label : 1', s=35)\n",
        "plt.scatter(X_train[T_train==-1][:, 0].T, X_train[T_train==-1][:, 1].T, color='r', edgecolor='k', label='label : -1', s=35)\n",
        "plt.grid(True)\n",
        "plt.legend()\n",
        "\n",
        "Z = grids@ab + c\n",
        "plt.contour(xx, yy, Z.reshape(xx.shape), levels=[0], colors='k')\n",
        "plt.contourf(xx, yy, Z.reshape(xx.shape), cmap='RdBu', alpha=0.7)  \n",
        "plt.show()\n",
        "#Print Training Accuracy\n",
        "print('Training Accuracy :{:.2f}%'.format(100*Pred_acc_train))\n",
        "print('Test Accuracy :{:.2f}%'.format(100*Pred_acc_test))"
      ],
      "execution_count": null,
      "outputs": [
        {
          "data": {
            "image/png": "[encoded data removed]",
            "text/plain": [
              "<Figure size 432x288 with 1 Axes>"
            ]
          },
          "metadata": {},
          "output_type": "display_data"
        },
        {
          "name": "stdout",
          "output_type": "stream",
          "text": [
            "Training Accuracy :93.00%\n",
            "Test Accuracy :93.00%\n"
          ]
        }
      ]
    },
    {
      "cell_type": "markdown",
      "metadata": {
        "id": "jhtpBxSfuHEK"
      },
      "source": [
        "## **Task 1-3: Train a Perceptron with Stochastic Gradient Descent (SGD)**\n",
        "**Objective:** Implement Stochastic Gradient Descent (SGD) Algorithm\n",
        "* Update parameters by Stochastic Gradient Descent (refer to the page 16 in Lecture Note)"
      ]
    },
    {
      "cell_type": "code",
      "metadata": {
        "id": "ai-A73v6uNRt"
      },
      "source": [
        "max_iter = 1000\n",
        "learning_rate = 0.01\n",
        "np.random.seed(0)\n",
        "ab = np.random.normal(size=2)   # Randomly Generate the Classifier Parameters \n",
        "c = np.random.normal(size=1)\n",
        "\n",
        "for i in range(max_iter):\n",
        "  indices = np.arange(len(X_train))\n",
        "  np.random.shuffle(indices)\n",
        "  X_train_shuffle = X_train[indices]\n",
        "  T_train_shuffle = T_train[indices]\n",
        "    \n",
        "  for j in range(len(X_train)):\n",
        "    ############ Your code here ############  \n",
        "\n",
        "\n",
        "\n",
        "\n",
        "\n",
        "\n",
        "    ########################################"
      ],
      "execution_count": null,
      "outputs": []
    },
    {
      "cell_type": "code",
      "metadata": {
        "id": "bz6m0YnPU2EK"
      },
      "source": [
        "Pred_train = X_train@ab + c\n",
        "Y_train = 2 * ((Pred_train) >= 0) - 1\n",
        "Pred_acc_train = np.sum((Y_train == T_train)) / len(Y_train)\n",
        "\n",
        "Pred_test = X_test@ab + c\n",
        "Y_test = 2 * ((Pred_test) >= 0) - 1\n",
        "Pred_acc_test = np.sum((Y_test == T_test)) / len(Y_test)\n",
        "\n",
        "# Visualize\n",
        "plt.scatter(X_train[T_train==1][:, 0].T, X_train[T_train==1][:, 1].T, color='b', edgecolor='k', label='label : 1', s=35)\n",
        "plt.scatter(X_train[T_train==-1][:, 0].T, X_train[T_train==-1][:, 1].T, color='r', edgecolor='k', label='label : -1', s=35)\n",
        "plt.grid(True)\n",
        "plt.legend()\n",
        "\n",
        "Z = grids@ab + c\n",
        "plt.contour(xx, yy, Z.reshape(xx.shape), levels=[0], colors='k')\n",
        "plt.contourf(xx, yy, Z.reshape(xx.shape), cmap='RdBu', alpha=0.7)  \n",
        "plt.show()\n",
        "#Print Accuracy\n",
        "print('Training Accuracy :{:.2f}%'.format(100*Pred_acc_train))\n",
        "print('Test Accuracy :{:.2f}%'.format(100*Pred_acc_test))"
      ],
      "execution_count": null,
      "outputs": []
    },
    {
      "cell_type": "markdown",
      "metadata": {
        "id": "mKsJyebWxu7m"
      },
      "source": [
        "## **Task 1-4: Train a Perceptron with mini-Batch SGD**\n",
        "**Objective:** Implement mini-Batch SGD Algorithm\n",
        "* Update parameters by mini-Batch SGD (refer to the page 16 in Lecture Note)"
      ]
    },
    {
      "cell_type": "code",
      "metadata": {
        "id": "WECXXQLCx0EU"
      },
      "source": [
        "max_iter = 1000\n",
        "learning_rate = 0.01\n",
        "np.random.seed(0)\n",
        "ab = np.random.normal(size=2)   # Randomly Generate the Classifier Parameters \n",
        "c = np.random.normal(size=1)\n",
        "\n",
        "batchsize = 10\n",
        "n_batches = len(X_train) // batchsize\n",
        " \n",
        "for i in range(max_iter):\n",
        "  indices = np.arange(len(X_train))\n",
        "  np.random.shuffle(indices)\n",
        "  X_train_shuffle = X_train[indices]\n",
        "  T_train_shuffle = T_train[indices]\n",
        "    \n",
        "  for j in range(n_batches):\n",
        "    ############ Your code here ############  \n",
        "  \n",
        "\n",
        "\n",
        "    ########################################"
      ],
      "execution_count": null,
      "outputs": []
    },
    {
      "cell_type": "code",
      "metadata": {
        "id": "psPdu-3-U2EP"
      },
      "source": [
        "    \n",
        "Pred_train = X_train@ab + c\n",
        "Y_train = 2 * ((Pred_train) >= 0) - 1\n",
        "Pred_acc_train = np.sum((Y_train == T_train)) / len(Y_train)\n",
        "\n",
        "Pred_test = X_test@ab + c\n",
        "Y_test = 2 * ((Pred_test) >= 0) - 1\n",
        "Pred_acc_test = np.sum((Y_test == T_test)) / len(Y_test)\n",
        "\n",
        "# Visualize\n",
        "plt.scatter(X_train[T_train==1][:, 0].T, X_train[T_train==1][:, 1].T, color='b', edgecolor='k', label='label : 1', s=35)\n",
        "plt.scatter(X_train[T_train==-1][:, 0].T, X_train[T_train==-1][:, 1].T, color='r', edgecolor='k', label='label : -1', s=35)\n",
        "plt.grid(True)\n",
        "plt.legend()\n",
        "\n",
        "Z = grids@ab + c\n",
        "plt.contour(xx, yy, Z.reshape(xx.shape), levels=[0], colors='k')\n",
        "plt.contourf(xx, yy, Z.reshape(xx.shape), cmap='RdBu', alpha=0.7)  \n",
        "plt.show()\n",
        "#Print Accuracy\n",
        "print('Training Accuracy :{:.2f}%'.format(100*Pred_acc_train))\n",
        "print('Test Accuracy :{:.2f}%'.format(100*Pred_acc_test))"
      ],
      "execution_count": null,
      "outputs": []
    },
    {
      "cell_type": "markdown",
      "metadata": {
        "id": "U6AkUkRBd5AA"
      },
      "source": [
        "## **Task 1-5: Train a Perceptron Using Scikit-Learn Package**\n",
        "**Objective:** Try to use an open source machine learning library of scikit-learn\n",
        "* Train a Perceptron with SGD using scikit-learn library"
      ]
    },
    {
      "cell_type": "code",
      "metadata": {
        "id": "obQUEaSynNv3"
      },
      "source": [
        "from sklearn.linear_model import Perceptron\n",
        "from sklearn.metrics import accuracy_score\n",
        "\n",
        "model = Perceptron(eta0=0.01, max_iter=1000, n_iter_no_change=500)\n",
        "model.fit(X_train, T_train)\n",
        "\n",
        "ab=model.coef_.T\n",
        "c=model.intercept_\n",
        "\n",
        "# Visualize\n",
        "plt.scatter(X_train[T_train==1][:, 0].T, X_train[T_train==1][:, 1].T, color='b', edgecolor='k', label='label : 1', s=35)\n",
        "plt.scatter(X_train[T_train==-1][:, 0].T, X_train[T_train==-1][:, 1].T, color='r', edgecolor='k', label='label : -1', s=35)\n",
        "plt.grid(True)\n",
        "plt.legend()\n",
        "\n",
        "Z = grids@ab + c\n",
        "plt.contour(xx, yy, Z.reshape(xx.shape), levels=[0], colors='k')\n",
        "plt.contourf(xx, yy, Z.reshape(xx.shape), cmap='RdBu', alpha=0.7) \n",
        "plt.show()\n",
        "\n",
        "Y_train = model.predict(X_train)\n",
        "Y_test = model.predict(X_test)\n",
        "\n",
        "#Print Accuracy\n",
        "print('Training Accuracy :{:.2f}%'.format(100*accuracy_score(T_train, Y_train)))\n",
        "print('Test Accuracy :{:.2f}%'.format(100*accuracy_score(T_test, Y_test)))"
      ],
      "execution_count": null,
      "outputs": []
    },
    {
      "cell_type": "markdown",
      "metadata": {
        "id": "b73Ksee1-T-0"
      },
      "source": [
        "# **Task 2 (Optional): Implement a Perceptron and train perceptron on different dataset**"
      ]
    },
    {
      "cell_type": "markdown",
      "metadata": {
        "id": "nqd8qLaG-q1a"
      },
      "source": [
        "## **Task 2-1: Train a Perceptron on Iris Dataset**\n",
        "\n",
        "**Objective:** Train a Percetron on a real data \n",
        "* Train a Perceptron on Iris Dataset with SGD using scikit-learn library\n"
      ]
    },
    {
      "cell_type": "code",
      "metadata": {
        "colab": {
          "background_save": true
        },
        "id": "xJtC5ZHStVIK"
      },
      "source": [
        "### Load Iris Dataset\n",
        "from sklearn.datasets import load_iris\n",
        "from sklearn.model_selection import train_test_split\n",
        "\n",
        "Iris = load_iris()\n",
        "\n",
        "X_Data = Iris.data\n",
        "Y_Data = Iris.target\n",
        "\n",
        "X_train, X_test, Y_train, Y_test = train_test_split(X_Data, Y_Data, test_size=0.3, random_state = 0)"
      ],
      "execution_count": null,
      "outputs": []
    },
    {
      "cell_type": "code",
      "metadata": {
        "id": "CBj-u5keuPzE"
      },
      "source": [
        "model = Perceptron(eta0=0.1, max_iter=1000)\n",
        "model.fit(X_train, Y_train)\n",
        "Y_Pred_train = model.predict(X_train)\n",
        "print('Training Accuracy :{:.2f}%'.format(100*accuracy_score(Y_train, Y_Pred_train)))\n",
        "\n",
        "Y_Pred_test = model.predict(X_test)\n",
        "print('Test Accuracy :{:.2f}%'.format(100*accuracy_score(Y_test, Y_Pred_test)))"
      ],
      "execution_count": null,
      "outputs": []
    },
    {
      "cell_type": "markdown",
      "metadata": {
        "id": "M6RKASMg-xsl"
      },
      "source": [
        "## **Task 2-2: Train a Perceptron on 2 Class MNIST**\n",
        "\n",
        "**Things to do:**\n",
        "\n",
        "1. Vetorization (convert to 2D image to 1D vector form) -> using ```reshape()``` method\n",
        "2. Standardization (normalize data to 0-1 range) -> just divide by 255"
      ]
    },
    {
      "cell_type": "code",
      "metadata": {
        "id": "9xIKH5eB-0bN"
      },
      "source": [
        "# {4, 9} classes mnist dataset download and decompress\n",
        "!pip install gdown\n",
        "!gdown --id 1n70aILNV1U8I2VJlYekKuhBGbrNtCUNb\n",
        "!tar -xvf mnist_49.tar\n",
        "!rm -f mnist_49.tar"
      ],
      "execution_count": null,
      "outputs": []
    },
    {
      "cell_type": "code",
      "metadata": {
        "id": "qehws7Tn-6IJ"
      },
      "source": [
        "# Load the dataset\n",
        "X_train = np.load('mnist_49/X_train.npy')\n",
        "X_test = np.load('mnist_49/X_test.npy')\n",
        "Y_train = np.load('mnist_49/Y_train.npy')\n",
        "Y_test = np.load('mnist_49/Y_test.npy')\n",
        "\n",
        "# Basic Descriptions of dataset\n",
        "print('Shape of data: {}'.format(X_train.shape[1:]))\n",
        "print('Number of train data: {}'.format(len(Y_train)))\n",
        "print('Number of test data: {}'.format(len(Y_test)))\n",
        "\n",
        "# Image plotting\n",
        "plt.subplot(1, 2, 1)\n",
        "plt.imshow(X_train[Y_train==0][0], cmap='gray_r')\n",
        "plt.title('Digit: 4')\n",
        "plt.xticks([]); plt.yticks([])\n",
        "plt.subplot(1, 2, 2)\n",
        "plt.imshow(X_train[Y_train==1][0], cmap='gray_r')\n",
        "plt.title('Digit: 9')\n",
        "plt.xticks([]); plt.yticks([])\n",
        "plt.show()"
      ],
      "execution_count": null,
      "outputs": []
    },
    {
      "cell_type": "markdown",
      "metadata": {
        "id": "1EBbh6Xk--Gr"
      },
      "source": [
        "**Vectorization & Standardization**"
      ]
    },
    {
      "cell_type": "code",
      "metadata": {
        "colab": {
          "base_uri": "https://localhost:8080/"
        },
        "id": "Wc1Ri396-78T",
        "outputId": "214d7d46-fde3-4892-e6e0-fc11bdd8318d"
      },
      "source": [
        "# Reshape the training and test examples\n",
        "\n",
        "X_train_flatten = X_train.reshape(X_train.shape[0], -1)\n",
        "X_test_flatten = X_test.reshape(X_test.shape[0], -1)\n",
        "\n",
        "print('X_train_flatten shape: ' + str(X_train_flatten.shape))\n",
        "print('Y_train shape: ' + str(Y_train.shape))\n",
        "print('X_test_flatten shape: ' + str(X_test_flatten.shape))\n",
        "print('Y_test shape: ' + str(Y_test.shape))\n",
        "\n",
        "X_train_std = X_train_flatten / 255.\n",
        "X_test_std = X_test_flatten / 255."
      ],
      "execution_count": null,
      "outputs": [
        {
          "name": "stdout",
          "output_type": "stream",
          "text": [
            "X_train_flatten shape: (11791, 784)\n",
            "Y_train shape: (11791,)\n",
            "X_test_flatten shape: (1991, 784)\n",
            "Y_test shape: (1991,)\n"
          ]
        }
      ]
    },
    {
      "cell_type": "markdown",
      "metadata": {
        "id": "sk7Sw3QI-_iM"
      },
      "source": [
        "**Model Training**"
      ]
    },
    {
      "cell_type": "code",
      "metadata": {
        "id": "r5QjUKVY_AlG"
      },
      "source": [
        "model = Perceptron(eta0=0.1, max_iter=5000)\n",
        "model.fit(X_train_std, Y_train)\n",
        "Y_Pred_train = model.predict(X_train_std)\n",
        "print('Training Accuracy :{:.2f}%'.format(100*accuracy_score(Y_train, Y_Pred_train)))\n",
        "\n",
        "Y_Pred_test = model.predict(X_test_std)\n",
        "print('Test Accuracy :{:.2f}%'.format(100*accuracy_score(Y_test, Y_Pred_test)))"
      ],
      "execution_count": null,
      "outputs": []
    },
    {
      "cell_type": "code",
      "metadata": {
        "id": "5n45OHCg_CRF"
      },
      "source": [
        "# Plotting results\n",
        "np.random.seed(2020)\n",
        "idxs = np.random.choice(len(Y_test), 10, replace=False)\n",
        "label_to_class = {0: '4', 1: '9'}\n",
        "\n",
        "plt.figure(figsize=(16, 8))\n",
        "for i, idx in enumerate(idxs):\n",
        "  plt.subplot(2, 5, i + 1)\n",
        "  predict = model.predict(X_test_std)\n",
        "  pred_label = (predict[idx] >= 0.5).astype(np.int)\n",
        "  plt.imshow(X_test[idx], cmap='gray_r')\n",
        "  plt.title('Digit Prediction: {} '.format(label_to_class[pred_label]), fontsize=14)\n",
        "  plt.xticks([]); plt.yticks([])"
      ],
      "execution_count": null,
      "outputs": []
    }
  ]
}