{
  "nbformat": 4,
  "nbformat_minor": 0,
  "metadata": {
    "accelerator": "GPU",
    "colab": {
      "name": "[EE488]week11_Convolutional_Neural_Network_DISTRIBUTE.ipynb",
      "provenance": [],
      "collapsed_sections": []
    },
    "kernelspec": {
      "display_name": "Python 3",
      "name": "python3"
    },
    "widgets": {
      "application/vnd.jupyter.widget-state+json": {
        "c72b5687e3514eb88d65cb4932a9be74": {
          "model_module": "@jupyter-widgets/controls",
          "model_name": "HBoxModel",
          "model_module_version": "1.5.0",
          "state": {
            "_view_name": "HBoxView",
            "_dom_classes": [],
            "_model_name": "HBoxModel",
            "_view_module": "@jupyter-widgets/controls",
            "_model_module_version": "1.5.0",
            "_view_count": null,
            "_view_module_version": "1.5.0",
            "box_style": "",
            "layout": "IPY_MODEL_08df5f61df1e46adadc7f1299109ba7d",
            "_model_module": "@jupyter-widgets/controls",
            "children": [
              "IPY_MODEL_a8bf250314664dae870ab57835aca825",
              "IPY_MODEL_cfd4270ca6184a02ae3ea6cd873148ce"
            ]
          }
        },
        "08df5f61df1e46adadc7f1299109ba7d": {
          "model_module": "@jupyter-widgets/base",
          "model_name": "LayoutModel",
          "model_module_version": "1.2.0",
          "state": {
            "_view_name": "LayoutView",
            "grid_template_rows": null,
            "right": null,
            "justify_content": null,
            "_view_module": "@jupyter-widgets/base",
            "overflow": null,
            "_model_module_version": "1.2.0",
            "_view_count": null,
            "flex_flow": null,
            "width": null,
            "min_width": null,
            "border": null,
            "align_items": null,
            "bottom": null,
            "_model_module": "@jupyter-widgets/base",
            "top": null,
            "grid_column": null,
            "overflow_y": null,
            "overflow_x": null,
            "grid_auto_flow": null,
            "grid_area": null,
            "grid_template_columns": null,
            "flex": null,
            "_model_name": "LayoutModel",
            "justify_items": null,
            "grid_row": null,
            "max_height": null,
            "align_content": null,
            "visibility": null,
            "align_self": null,
            "height": null,
            "min_height": null,
            "padding": null,
            "grid_auto_rows": null,
            "grid_gap": null,
            "max_width": null,
            "order": null,
            "_view_module_version": "1.2.0",
            "grid_template_areas": null,
            "object_position": null,
            "object_fit": null,
            "grid_auto_columns": null,
            "margin": null,
            "display": null,
            "left": null
          }
        },
        "a8bf250314664dae870ab57835aca825": {
          "model_module": "@jupyter-widgets/controls",
          "model_name": "FloatProgressModel",
          "model_module_version": "1.5.0",
          "state": {
            "_view_name": "ProgressView",
            "style": "IPY_MODEL_c7634ac60d5a4b81994edc1a340a011d",
            "_dom_classes": [],
            "description": "",
            "_model_name": "FloatProgressModel",
            "bar_style": "info",
            "max": 1,
            "_view_module": "@jupyter-widgets/controls",
            "_model_module_version": "1.5.0",
            "value": 1,
            "_view_count": null,
            "_view_module_version": "1.5.0",
            "orientation": "horizontal",
            "min": 0,
            "description_tooltip": null,
            "_model_module": "@jupyter-widgets/controls",
            "layout": "IPY_MODEL_328ec7cafa344e3b9a599b82eea3c3cb"
          }
        },
        "cfd4270ca6184a02ae3ea6cd873148ce": {
          "model_module": "@jupyter-widgets/controls",
          "model_name": "HTMLModel",
          "model_module_version": "1.5.0",
          "state": {
            "_view_name": "HTMLView",
            "style": "IPY_MODEL_d558497f2f0e41e69a23fe396cb14327",
            "_dom_classes": [],
            "description": "",
            "_model_name": "HTMLModel",
            "placeholder": "​",
            "_view_module": "@jupyter-widgets/controls",
            "_model_module_version": "1.5.0",
            "value": " 9920512/? [00:20&lt;00:00, 248686.65it/s]",
            "_view_count": null,
            "_view_module_version": "1.5.0",
            "description_tooltip": null,
            "_model_module": "@jupyter-widgets/controls",
            "layout": "IPY_MODEL_6039bd9853024eb5a620edaaddec277a"
          }
        },
        "c7634ac60d5a4b81994edc1a340a011d": {
          "model_module": "@jupyter-widgets/controls",
          "model_name": "ProgressStyleModel",
          "model_module_version": "1.5.0",
          "state": {
            "_view_name": "StyleView",
            "_model_name": "ProgressStyleModel",
            "description_width": "initial",
            "_view_module": "@jupyter-widgets/base",
            "_model_module_version": "1.5.0",
            "_view_count": null,
            "_view_module_version": "1.2.0",
            "bar_color": null,
            "_model_module": "@jupyter-widgets/controls"
          }
        },
        "328ec7cafa344e3b9a599b82eea3c3cb": {
          "model_module": "@jupyter-widgets/base",
          "model_name": "LayoutModel",
          "model_module_version": "1.2.0",
          "state": {
            "_view_name": "LayoutView",
            "grid_template_rows": null,
            "right": null,
            "justify_content": null,
            "_view_module": "@jupyter-widgets/base",
            "overflow": null,
            "_model_module_version": "1.2.0",
            "_view_count": null,
            "flex_flow": null,
            "width": null,
            "min_width": null,
            "border": null,
            "align_items": null,
            "bottom": null,
            "_model_module": "@jupyter-widgets/base",
            "top": null,
            "grid_column": null,
            "overflow_y": null,
            "overflow_x": null,
            "grid_auto_flow": null,
            "grid_area": null,
            "grid_template_columns": null,
            "flex": null,
            "_model_name": "LayoutModel",
            "justify_items": null,
            "grid_row": null,
            "max_height": null,
            "align_content": null,
            "visibility": null,
            "align_self": null,
            "height": null,
            "min_height": null,
            "padding": null,
            "grid_auto_rows": null,
            "grid_gap": null,
            "max_width": null,
            "order": null,
            "_view_module_version": "1.2.0",
            "grid_template_areas": null,
            "object_position": null,
            "object_fit": null,
            "grid_auto_columns": null,
            "margin": null,
            "display": null,
            "left": null
          }
        },
        "d558497f2f0e41e69a23fe396cb14327": {
          "model_module": "@jupyter-widgets/controls",
          "model_name": "DescriptionStyleModel",
          "model_module_version": "1.5.0",
          "state": {
            "_view_name": "StyleView",
            "_model_name": "DescriptionStyleModel",
            "description_width": "",
            "_view_module": "@jupyter-widgets/base",
            "_model_module_version": "1.5.0",
            "_view_count": null,
            "_view_module_version": "1.2.0",
            "_model_module": "@jupyter-widgets/controls"
          }
        },
        "6039bd9853024eb5a620edaaddec277a": {
          "model_module": "@jupyter-widgets/base",
          "model_name": "LayoutModel",
          "model_module_version": "1.2.0",
          "state": {
            "_view_name": "LayoutView",
            "grid_template_rows": null,
            "right": null,
            "justify_content": null,
            "_view_module": "@jupyter-widgets/base",
            "overflow": null,
            "_model_module_version": "1.2.0",
            "_view_count": null,
            "flex_flow": null,
            "width": null,
            "min_width": null,
            "border": null,
            "align_items": null,
            "bottom": null,
            "_model_module": "@jupyter-widgets/base",
            "top": null,
            "grid_column": null,
            "overflow_y": null,
            "overflow_x": null,
            "grid_auto_flow": null,
            "grid_area": null,
            "grid_template_columns": null,
            "flex": null,
            "_model_name": "LayoutModel",
            "justify_items": null,
            "grid_row": null,
            "max_height": null,
            "align_content": null,
            "visibility": null,
            "align_self": null,
            "height": null,
            "min_height": null,
            "padding": null,
            "grid_auto_rows": null,
            "grid_gap": null,
            "max_width": null,
            "order": null,
            "_view_module_version": "1.2.0",
            "grid_template_areas": null,
            "object_position": null,
            "object_fit": null,
            "grid_auto_columns": null,
            "margin": null,
            "display": null,
            "left": null
          }
        },
        "adc9254470524ec690f9e47406560a7b": {
          "model_module": "@jupyter-widgets/controls",
          "model_name": "HBoxModel",
          "model_module_version": "1.5.0",
          "state": {
            "_view_name": "HBoxView",
            "_dom_classes": [],
            "_model_name": "HBoxModel",
            "_view_module": "@jupyter-widgets/controls",
            "_model_module_version": "1.5.0",
            "_view_count": null,
            "_view_module_version": "1.5.0",
            "box_style": "",
            "layout": "IPY_MODEL_db5ef82958f7435787632d1e37256175",
            "_model_module": "@jupyter-widgets/controls",
            "children": [
              "IPY_MODEL_f2144ed8e5b349cab5e7863383fc313a",
              "IPY_MODEL_58f4bbcfc29848d781aae8c59a6ee8ea"
            ]
          }
        },
        "db5ef82958f7435787632d1e37256175": {
          "model_module": "@jupyter-widgets/base",
          "model_name": "LayoutModel",
          "model_module_version": "1.2.0",
          "state": {
            "_view_name": "LayoutView",
            "grid_template_rows": null,
            "right": null,
            "justify_content": null,
            "_view_module": "@jupyter-widgets/base",
            "overflow": null,
            "_model_module_version": "1.2.0",
            "_view_count": null,
            "flex_flow": null,
            "width": null,
            "min_width": null,
            "border": null,
            "align_items": null,
            "bottom": null,
            "_model_module": "@jupyter-widgets/base",
            "top": null,
            "grid_column": null,
            "overflow_y": null,
            "overflow_x": null,
            "grid_auto_flow": null,
            "grid_area": null,
            "grid_template_columns": null,
            "flex": null,
            "_model_name": "LayoutModel",
            "justify_items": null,
            "grid_row": null,
            "max_height": null,
            "align_content": null,
            "visibility": null,
            "align_self": null,
            "height": null,
            "min_height": null,
            "padding": null,
            "grid_auto_rows": null,
            "grid_gap": null,
            "max_width": null,
            "order": null,
            "_view_module_version": "1.2.0",
            "grid_template_areas": null,
            "object_position": null,
            "object_fit": null,
            "grid_auto_columns": null,
            "margin": null,
            "display": null,
            "left": null
          }
        },
        "f2144ed8e5b349cab5e7863383fc313a": {
          "model_module": "@jupyter-widgets/controls",
          "model_name": "FloatProgressModel",
          "model_module_version": "1.5.0",
          "state": {
            "_view_name": "ProgressView",
            "style": "IPY_MODEL_6ece3a0a18bc46bc9f5a33dc28248d92",
            "_dom_classes": [],
            "description": "",
            "_model_name": "FloatProgressModel",
            "bar_style": "success",
            "max": 1,
            "_view_module": "@jupyter-widgets/controls",
            "_model_module_version": "1.5.0",
            "value": 1,
            "_view_count": null,
            "_view_module_version": "1.5.0",
            "orientation": "horizontal",
            "min": 0,
            "description_tooltip": null,
            "_model_module": "@jupyter-widgets/controls",
            "layout": "IPY_MODEL_92c4eecea7c7417da167810b1644c7ec"
          }
        },
        "58f4bbcfc29848d781aae8c59a6ee8ea": {
          "model_module": "@jupyter-widgets/controls",
          "model_name": "HTMLModel",
          "model_module_version": "1.5.0",
          "state": {
            "_view_name": "HTMLView",
            "style": "IPY_MODEL_64ee2d68906a48c5a3591ca07020e556",
            "_dom_classes": [],
            "description": "",
            "_model_name": "HTMLModel",
            "placeholder": "​",
            "_view_module": "@jupyter-widgets/controls",
            "_model_module_version": "1.5.0",
            "value": " 32768/? [00:00&lt;00:00, 382109.22it/s]",
            "_view_count": null,
            "_view_module_version": "1.5.0",
            "description_tooltip": null,
            "_model_module": "@jupyter-widgets/controls",
            "layout": "IPY_MODEL_b310f160c3784ce49de00f907337d052"
          }
        },
        "6ece3a0a18bc46bc9f5a33dc28248d92": {
          "model_module": "@jupyter-widgets/controls",
          "model_name": "ProgressStyleModel",
          "model_module_version": "1.5.0",
          "state": {
            "_view_name": "StyleView",
            "_model_name": "ProgressStyleModel",
            "description_width": "initial",
            "_view_module": "@jupyter-widgets/base",
            "_model_module_version": "1.5.0",
            "_view_count": null,
            "_view_module_version": "1.2.0",
            "bar_color": null,
            "_model_module": "@jupyter-widgets/controls"
          }
        },
        "92c4eecea7c7417da167810b1644c7ec": {
          "model_module": "@jupyter-widgets/base",
          "model_name": "LayoutModel",
          "model_module_version": "1.2.0",
          "state": {
            "_view_name": "LayoutView",
            "grid_template_rows": null,
            "right": null,
            "justify_content": null,
            "_view_module": "@jupyter-widgets/base",
            "overflow": null,
            "_model_module_version": "1.2.0",
            "_view_count": null,
            "flex_flow": null,
            "width": null,
            "min_width": null,
            "border": null,
            "align_items": null,
            "bottom": null,
            "_model_module": "@jupyter-widgets/base",
            "top": null,
            "grid_column": null,
            "overflow_y": null,
            "overflow_x": null,
            "grid_auto_flow": null,
            "grid_area": null,
            "grid_template_columns": null,
            "flex": null,
            "_model_name": "LayoutModel",
            "justify_items": null,
            "grid_row": null,
            "max_height": null,
            "align_content": null,
            "visibility": null,
            "align_self": null,
            "height": null,
            "min_height": null,
            "padding": null,
            "grid_auto_rows": null,
            "grid_gap": null,
            "max_width": null,
            "order": null,
            "_view_module_version": "1.2.0",
            "grid_template_areas": null,
            "object_position": null,
            "object_fit": null,
            "grid_auto_columns": null,
            "margin": null,
            "display": null,
            "left": null
          }
        },
        "64ee2d68906a48c5a3591ca07020e556": {
          "model_module": "@jupyter-widgets/controls",
          "model_name": "DescriptionStyleModel",
          "model_module_version": "1.5.0",
          "state": {
            "_view_name": "StyleView",
            "_model_name": "DescriptionStyleModel",
            "description_width": "",
            "_view_module": "@jupyter-widgets/base",
            "_model_module_version": "1.5.0",
            "_view_count": null,
            "_view_module_version": "1.2.0",
            "_model_module": "@jupyter-widgets/controls"
          }
        },
        "b310f160c3784ce49de00f907337d052": {
          "model_module": "@jupyter-widgets/base",
          "model_name": "LayoutModel",
          "model_module_version": "1.2.0",
          "state": {
            "_view_name": "LayoutView",
            "grid_template_rows": null,
            "right": null,
            "justify_content": null,
            "_view_module": "@jupyter-widgets/base",
            "overflow": null,
            "_model_module_version": "1.2.0",
            "_view_count": null,
            "flex_flow": null,
            "width": null,
            "min_width": null,
            "border": null,
            "align_items": null,
            "bottom": null,
            "_model_module": "@jupyter-widgets/base",
            "top": null,
            "grid_column": null,
            "overflow_y": null,
            "overflow_x": null,
            "grid_auto_flow": null,
            "grid_area": null,
            "grid_template_columns": null,
            "flex": null,
            "_model_name": "LayoutModel",
            "justify_items": null,
            "grid_row": null,
            "max_height": null,
            "align_content": null,
            "visibility": null,
            "align_self": null,
            "height": null,
            "min_height": null,
            "padding": null,
            "grid_auto_rows": null,
            "grid_gap": null,
            "max_width": null,
            "order": null,
            "_view_module_version": "1.2.0",
            "grid_template_areas": null,
            "object_position": null,
            "object_fit": null,
            "grid_auto_columns": null,
            "margin": null,
            "display": null,
            "left": null
          }
        },
        "6d1c5d0fc4534fbc8eb4da7471687655": {
          "model_module": "@jupyter-widgets/controls",
          "model_name": "HBoxModel",
          "model_module_version": "1.5.0",
          "state": {
            "_view_name": "HBoxView",
            "_dom_classes": [],
            "_model_name": "HBoxModel",
            "_view_module": "@jupyter-widgets/controls",
            "_model_module_version": "1.5.0",
            "_view_count": null,
            "_view_module_version": "1.5.0",
            "box_style": "",
            "layout": "IPY_MODEL_01115cb785d84dc9a357b871049ccbb2",
            "_model_module": "@jupyter-widgets/controls",
            "children": [
              "IPY_MODEL_2789a017c5ee4ef5a8d780d832319a22",
              "IPY_MODEL_62895ff6873f436e85be8b54639e1f52"
            ]
          }
        },
        "01115cb785d84dc9a357b871049ccbb2": {
          "model_module": "@jupyter-widgets/base",
          "model_name": "LayoutModel",
          "model_module_version": "1.2.0",
          "state": {
            "_view_name": "LayoutView",
            "grid_template_rows": null,
            "right": null,
            "justify_content": null,
            "_view_module": "@jupyter-widgets/base",
            "overflow": null,
            "_model_module_version": "1.2.0",
            "_view_count": null,
            "flex_flow": null,
            "width": null,
            "min_width": null,
            "border": null,
            "align_items": null,
            "bottom": null,
            "_model_module": "@jupyter-widgets/base",
            "top": null,
            "grid_column": null,
            "overflow_y": null,
            "overflow_x": null,
            "grid_auto_flow": null,
            "grid_area": null,
            "grid_template_columns": null,
            "flex": null,
            "_model_name": "LayoutModel",
            "justify_items": null,
            "grid_row": null,
            "max_height": null,
            "align_content": null,
            "visibility": null,
            "align_self": null,
            "height": null,
            "min_height": null,
            "padding": null,
            "grid_auto_rows": null,
            "grid_gap": null,
            "max_width": null,
            "order": null,
            "_view_module_version": "1.2.0",
            "grid_template_areas": null,
            "object_position": null,
            "object_fit": null,
            "grid_auto_columns": null,
            "margin": null,
            "display": null,
            "left": null
          }
        },
        "2789a017c5ee4ef5a8d780d832319a22": {
          "model_module": "@jupyter-widgets/controls",
          "model_name": "FloatProgressModel",
          "model_module_version": "1.5.0",
          "state": {
            "_view_name": "ProgressView",
            "style": "IPY_MODEL_a0ec5c1eed21448682f2fabfcc250977",
            "_dom_classes": [],
            "description": "",
            "_model_name": "FloatProgressModel",
            "bar_style": "info",
            "max": 1,
            "_view_module": "@jupyter-widgets/controls",
            "_model_module_version": "1.5.0",
            "value": 1,
            "_view_count": null,
            "_view_module_version": "1.5.0",
            "orientation": "horizontal",
            "min": 0,
            "description_tooltip": null,
            "_model_module": "@jupyter-widgets/controls",
            "layout": "IPY_MODEL_c6100d612a844ed7aaf3dfbef1a61fc5"
          }
        },
        "62895ff6873f436e85be8b54639e1f52": {
          "model_module": "@jupyter-widgets/controls",
          "model_name": "HTMLModel",
          "model_module_version": "1.5.0",
          "state": {
            "_view_name": "HTMLView",
            "style": "IPY_MODEL_99fcb2c488234abda98c0860dc77a5de",
            "_dom_classes": [],
            "description": "",
            "_model_name": "HTMLModel",
            "placeholder": "​",
            "_view_module": "@jupyter-widgets/controls",
            "_model_module_version": "1.5.0",
            "value": " 1654784/? [00:19&lt;00:00, 125764.95it/s]",
            "_view_count": null,
            "_view_module_version": "1.5.0",
            "description_tooltip": null,
            "_model_module": "@jupyter-widgets/controls",
            "layout": "IPY_MODEL_e2898e0e4a6a4f6497a68fb1571db94d"
          }
        },
        "a0ec5c1eed21448682f2fabfcc250977": {
          "model_module": "@jupyter-widgets/controls",
          "model_name": "ProgressStyleModel",
          "model_module_version": "1.5.0",
          "state": {
            "_view_name": "StyleView",
            "_model_name": "ProgressStyleModel",
            "description_width": "initial",
            "_view_module": "@jupyter-widgets/base",
            "_model_module_version": "1.5.0",
            "_view_count": null,
            "_view_module_version": "1.2.0",
            "bar_color": null,
            "_model_module": "@jupyter-widgets/controls"
          }
        },
        "c6100d612a844ed7aaf3dfbef1a61fc5": {
          "model_module": "@jupyter-widgets/base",
          "model_name": "LayoutModel",
          "model_module_version": "1.2.0",
          "state": {
            "_view_name": "LayoutView",
            "grid_template_rows": null,
            "right": null,
            "justify_content": null,
            "_view_module": "@jupyter-widgets/base",
            "overflow": null,
            "_model_module_version": "1.2.0",
            "_view_count": null,
            "flex_flow": null,
            "width": null,
            "min_width": null,
            "border": null,
            "align_items": null,
            "bottom": null,
            "_model_module": "@jupyter-widgets/base",
            "top": null,
            "grid_column": null,
            "overflow_y": null,
            "overflow_x": null,
            "grid_auto_flow": null,
            "grid_area": null,
            "grid_template_columns": null,
            "flex": null,
            "_model_name": "LayoutModel",
            "justify_items": null,
            "grid_row": null,
            "max_height": null,
            "align_content": null,
            "visibility": null,
            "align_self": null,
            "height": null,
            "min_height": null,
            "padding": null,
            "grid_auto_rows": null,
            "grid_gap": null,
            "max_width": null,
            "order": null,
            "_view_module_version": "1.2.0",
            "grid_template_areas": null,
            "object_position": null,
            "object_fit": null,
            "grid_auto_columns": null,
            "margin": null,
            "display": null,
            "left": null
          }
        },
        "99fcb2c488234abda98c0860dc77a5de": {
          "model_module": "@jupyter-widgets/controls",
          "model_name": "DescriptionStyleModel",
          "model_module_version": "1.5.0",
          "state": {
            "_view_name": "StyleView",
            "_model_name": "DescriptionStyleModel",
            "description_width": "",
            "_view_module": "@jupyter-widgets/base",
            "_model_module_version": "1.5.0",
            "_view_count": null,
            "_view_module_version": "1.2.0",
            "_model_module": "@jupyter-widgets/controls"
          }
        },
        "e2898e0e4a6a4f6497a68fb1571db94d": {
          "model_module": "@jupyter-widgets/base",
          "model_name": "LayoutModel",
          "model_module_version": "1.2.0",
          "state": {
            "_view_name": "LayoutView",
            "grid_template_rows": null,
            "right": null,
            "justify_content": null,
            "_view_module": "@jupyter-widgets/base",
            "overflow": null,
            "_model_module_version": "1.2.0",
            "_view_count": null,
            "flex_flow": null,
            "width": null,
            "min_width": null,
            "border": null,
            "align_items": null,
            "bottom": null,
            "_model_module": "@jupyter-widgets/base",
            "top": null,
            "grid_column": null,
            "overflow_y": null,
            "overflow_x": null,
            "grid_auto_flow": null,
            "grid_area": null,
            "grid_template_columns": null,
            "flex": null,
            "_model_name": "LayoutModel",
            "justify_items": null,
            "grid_row": null,
            "max_height": null,
            "align_content": null,
            "visibility": null,
            "align_self": null,
            "height": null,
            "min_height": null,
            "padding": null,
            "grid_auto_rows": null,
            "grid_gap": null,
            "max_width": null,
            "order": null,
            "_view_module_version": "1.2.0",
            "grid_template_areas": null,
            "object_position": null,
            "object_fit": null,
            "grid_auto_columns": null,
            "margin": null,
            "display": null,
            "left": null
          }
        },
        "6397f19ad93a480da04543bf2d3befdf": {
          "model_module": "@jupyter-widgets/controls",
          "model_name": "HBoxModel",
          "model_module_version": "1.5.0",
          "state": {
            "_view_name": "HBoxView",
            "_dom_classes": [],
            "_model_name": "HBoxModel",
            "_view_module": "@jupyter-widgets/controls",
            "_model_module_version": "1.5.0",
            "_view_count": null,
            "_view_module_version": "1.5.0",
            "box_style": "",
            "layout": "IPY_MODEL_6431c3996cf9418a98b6ab73647f66a7",
            "_model_module": "@jupyter-widgets/controls",
            "children": [
              "IPY_MODEL_29610662a74446ecb7647c181846805e",
              "IPY_MODEL_2022c24add1b43d8b53310318070173d"
            ]
          }
        },
        "6431c3996cf9418a98b6ab73647f66a7": {
          "model_module": "@jupyter-widgets/base",
          "model_name": "LayoutModel",
          "model_module_version": "1.2.0",
          "state": {
            "_view_name": "LayoutView",
            "grid_template_rows": null,
            "right": null,
            "justify_content": null,
            "_view_module": "@jupyter-widgets/base",
            "overflow": null,
            "_model_module_version": "1.2.0",
            "_view_count": null,
            "flex_flow": null,
            "width": null,
            "min_width": null,
            "border": null,
            "align_items": null,
            "bottom": null,
            "_model_module": "@jupyter-widgets/base",
            "top": null,
            "grid_column": null,
            "overflow_y": null,
            "overflow_x": null,
            "grid_auto_flow": null,
            "grid_area": null,
            "grid_template_columns": null,
            "flex": null,
            "_model_name": "LayoutModel",
            "justify_items": null,
            "grid_row": null,
            "max_height": null,
            "align_content": null,
            "visibility": null,
            "align_self": null,
            "height": null,
            "min_height": null,
            "padding": null,
            "grid_auto_rows": null,
            "grid_gap": null,
            "max_width": null,
            "order": null,
            "_view_module_version": "1.2.0",
            "grid_template_areas": null,
            "object_position": null,
            "object_fit": null,
            "grid_auto_columns": null,
            "margin": null,
            "display": null,
            "left": null
          }
        },
        "29610662a74446ecb7647c181846805e": {
          "model_module": "@jupyter-widgets/controls",
          "model_name": "FloatProgressModel",
          "model_module_version": "1.5.0",
          "state": {
            "_view_name": "ProgressView",
            "style": "IPY_MODEL_9f87c8dbe6154d0ea4bdd4b51c75f9ab",
            "_dom_classes": [],
            "description": "  0%",
            "_model_name": "FloatProgressModel",
            "bar_style": "info",
            "max": 1,
            "_view_module": "@jupyter-widgets/controls",
            "_model_module_version": "1.5.0",
            "value": 0,
            "_view_count": null,
            "_view_module_version": "1.5.0",
            "orientation": "horizontal",
            "min": 0,
            "description_tooltip": null,
            "_model_module": "@jupyter-widgets/controls",
            "layout": "IPY_MODEL_fcf461f7c1134a8c9c4bb4592815a054"
          }
        },
        "2022c24add1b43d8b53310318070173d": {
          "model_module": "@jupyter-widgets/controls",
          "model_name": "HTMLModel",
          "model_module_version": "1.5.0",
          "state": {
            "_view_name": "HTMLView",
            "style": "IPY_MODEL_9b1724f6fda241a0a18509e2e24dfd1e",
            "_dom_classes": [],
            "description": "",
            "_model_name": "HTMLModel",
            "placeholder": "​",
            "_view_module": "@jupyter-widgets/controls",
            "_model_module_version": "1.5.0",
            "value": " 0/4542 [00:00&lt;?, ?it/s]",
            "_view_count": null,
            "_view_module_version": "1.5.0",
            "description_tooltip": null,
            "_model_module": "@jupyter-widgets/controls",
            "layout": "IPY_MODEL_adf233261fdf4b739502b5cd39ae701f"
          }
        },
        "9f87c8dbe6154d0ea4bdd4b51c75f9ab": {
          "model_module": "@jupyter-widgets/controls",
          "model_name": "ProgressStyleModel",
          "model_module_version": "1.5.0",
          "state": {
            "_view_name": "StyleView",
            "_model_name": "ProgressStyleModel",
            "description_width": "initial",
            "_view_module": "@jupyter-widgets/base",
            "_model_module_version": "1.5.0",
            "_view_count": null,
            "_view_module_version": "1.2.0",
            "bar_color": null,
            "_model_module": "@jupyter-widgets/controls"
          }
        },
        "fcf461f7c1134a8c9c4bb4592815a054": {
          "model_module": "@jupyter-widgets/base",
          "model_name": "LayoutModel",
          "model_module_version": "1.2.0",
          "state": {
            "_view_name": "LayoutView",
            "grid_template_rows": null,
            "right": null,
            "justify_content": null,
            "_view_module": "@jupyter-widgets/base",
            "overflow": null,
            "_model_module_version": "1.2.0",
            "_view_count": null,
            "flex_flow": null,
            "width": null,
            "min_width": null,
            "border": null,
            "align_items": null,
            "bottom": null,
            "_model_module": "@jupyter-widgets/base",
            "top": null,
            "grid_column": null,
            "overflow_y": null,
            "overflow_x": null,
            "grid_auto_flow": null,
            "grid_area": null,
            "grid_template_columns": null,
            "flex": null,
            "_model_name": "LayoutModel",
            "justify_items": null,
            "grid_row": null,
            "max_height": null,
            "align_content": null,
            "visibility": null,
            "align_self": null,
            "height": null,
            "min_height": null,
            "padding": null,
            "grid_auto_rows": null,
            "grid_gap": null,
            "max_width": null,
            "order": null,
            "_view_module_version": "1.2.0",
            "grid_template_areas": null,
            "object_position": null,
            "object_fit": null,
            "grid_auto_columns": null,
            "margin": null,
            "display": null,
            "left": null
          }
        },
        "9b1724f6fda241a0a18509e2e24dfd1e": {
          "model_module": "@jupyter-widgets/controls",
          "model_name": "DescriptionStyleModel",
          "model_module_version": "1.5.0",
          "state": {
            "_view_name": "StyleView",
            "_model_name": "DescriptionStyleModel",
            "description_width": "",
            "_view_module": "@jupyter-widgets/base",
            "_model_module_version": "1.5.0",
            "_view_count": null,
            "_view_module_version": "1.2.0",
            "_model_module": "@jupyter-widgets/controls"
          }
        },
        "adf233261fdf4b739502b5cd39ae701f": {
          "model_module": "@jupyter-widgets/base",
          "model_name": "LayoutModel",
          "model_module_version": "1.2.0",
          "state": {
            "_view_name": "LayoutView",
            "grid_template_rows": null,
            "right": null,
            "justify_content": null,
            "_view_module": "@jupyter-widgets/base",
            "overflow": null,
            "_model_module_version": "1.2.0",
            "_view_count": null,
            "flex_flow": null,
            "width": null,
            "min_width": null,
            "border": null,
            "align_items": null,
            "bottom": null,
            "_model_module": "@jupyter-widgets/base",
            "top": null,
            "grid_column": null,
            "overflow_y": null,
            "overflow_x": null,
            "grid_auto_flow": null,
            "grid_area": null,
            "grid_template_columns": null,
            "flex": null,
            "_model_name": "LayoutModel",
            "justify_items": null,
            "grid_row": null,
            "max_height": null,
            "align_content": null,
            "visibility": null,
            "align_self": null,
            "height": null,
            "min_height": null,
            "padding": null,
            "grid_auto_rows": null,
            "grid_gap": null,
            "max_width": null,
            "order": null,
            "_view_module_version": "1.2.0",
            "grid_template_areas": null,
            "object_position": null,
            "object_fit": null,
            "grid_auto_columns": null,
            "margin": null,
            "display": null,
            "left": null
          }
        }
      }
    }
  },
  "cells": [
    {
      "cell_type": "markdown",
      "metadata": {
        "id": "xTNstbUr2qJU"
      },
      "source": [
        "# **Convolutional Neural Network (CNN)**\n",
        "\n",
        "\n",
        "## Objective\n",
        "\n",
        "1. Implement **Convolutional Neural Network(CNN)** using pytorch\n",
        "2. Comparision between **Multi-Layer Perceptron (MLP)** and **CNN**\n",
        "\n"
      ]
    },
    {
      "cell_type": "code",
      "metadata": {
        "id": "gXKp66zW2hu4"
      },
      "source": [
        "import torch\n",
        "import torch.nn as nn\n",
        "import torch.nn.functional as F\n",
        "import torch.optim as optim\n",
        "\n",
        "import torchvision\n",
        "import torchvision.transforms as transforms\n",
        "from torchsummary import summary\n",
        "\n",
        "from tqdm import tqdm\n",
        "import time \n",
        "from sklearn.preprocessing import StandardScaler\n",
        "\n",
        "import matplotlib.pyplot as plt"
      ],
      "execution_count": null,
      "outputs": []
    },
    {
      "cell_type": "markdown",
      "metadata": {
        "id": "sNErxbFv6aUM"
      },
      "source": [
        "##**1.Convolutional Neural Network(CNN)**\n",
        "\n",
        "\n",
        "- Convolutional layer can be defined by `torch.nn.Conv2d` \n",
        "- Convolutional layer needs different arguments from fully connected layer(nn.Linear)\n",
        "  - FC layer needs **size of input feature** and **size of output feature** for arguments\n",
        "  - Convolutional layer needs **a number of input channel** and **a number of output channel** similarly, but also it needs **size of kernel (filter)** \n",
        "- Convolutional layer utilizes different weight from FC layer\n",
        "  - FC layer utilizes weight size of 2-dimentional matrix (*output feature size, input feature size*)\n",
        "  - Convolutional layer utilizes weight size of  4-dimentional tensor (*output channel size, input channel size, kernel height, kernel width*)\n"
      ]
    },
    {
      "cell_type": "code",
      "metadata": {
        "id": "EGYtS1YUawqg",
        "colab": {
          "base_uri": "https://localhost:8080/"
        },
        "outputId": "fe39a1b2-67e6-4ea3-e4cb-9ce062011753"
      },
      "source": [
        "linear_layer = nn.Linear(in_features=784, out_features=400)\n",
        "convolutional_layer = nn.Conv2d(in_channels=3, out_channels=32, kernel_size=(5,5))\n",
        "print(\"Shape of Linear layer weight:\" ,end=\" \")\n",
        "print(linear_layer.weight.shape)\n",
        "print(\"Shape of Convolutional layer weight:\", end=\" \")\n",
        "print(convolutional_layer.weight.shape)"
      ],
      "execution_count": null,
      "outputs": [
        {
          "output_type": "stream",
          "text": [
            "Shape of Linear layer weight: torch.Size([400, 784])\n",
            "Shape of Convolutional layer weight: torch.Size([32, 3, 5, 5])\n"
          ],
          "name": "stdout"
        }
      ]
    },
    {
      "cell_type": "markdown",
      "metadata": {
        "id": "YUlZ_XV3cI5Q"
      },
      "source": [
        "Loading MNIST dataset using a package `torchvision`"
      ]
    },
    {
      "cell_type": "code",
      "metadata": {
        "id": "EuHissAA74BI",
        "colab": {
          "base_uri": "https://localhost:8080/",
          "height": 399,
          "referenced_widgets": [
            "c72b5687e3514eb88d65cb4932a9be74",
            "08df5f61df1e46adadc7f1299109ba7d",
            "a8bf250314664dae870ab57835aca825",
            "cfd4270ca6184a02ae3ea6cd873148ce",
            "c7634ac60d5a4b81994edc1a340a011d",
            "328ec7cafa344e3b9a599b82eea3c3cb",
            "d558497f2f0e41e69a23fe396cb14327",
            "6039bd9853024eb5a620edaaddec277a",
            "adc9254470524ec690f9e47406560a7b",
            "db5ef82958f7435787632d1e37256175",
            "f2144ed8e5b349cab5e7863383fc313a",
            "58f4bbcfc29848d781aae8c59a6ee8ea",
            "6ece3a0a18bc46bc9f5a33dc28248d92",
            "92c4eecea7c7417da167810b1644c7ec",
            "64ee2d68906a48c5a3591ca07020e556",
            "b310f160c3784ce49de00f907337d052",
            "6d1c5d0fc4534fbc8eb4da7471687655",
            "01115cb785d84dc9a357b871049ccbb2",
            "2789a017c5ee4ef5a8d780d832319a22",
            "62895ff6873f436e85be8b54639e1f52",
            "a0ec5c1eed21448682f2fabfcc250977",
            "c6100d612a844ed7aaf3dfbef1a61fc5",
            "99fcb2c488234abda98c0860dc77a5de",
            "e2898e0e4a6a4f6497a68fb1571db94d",
            "6397f19ad93a480da04543bf2d3befdf",
            "6431c3996cf9418a98b6ab73647f66a7",
            "29610662a74446ecb7647c181846805e",
            "2022c24add1b43d8b53310318070173d",
            "9f87c8dbe6154d0ea4bdd4b51c75f9ab",
            "fcf461f7c1134a8c9c4bb4592815a054",
            "9b1724f6fda241a0a18509e2e24dfd1e",
            "adf233261fdf4b739502b5cd39ae701f"
          ]
        },
        "outputId": "ff23359e-ad96-4dbd-e454-11f07e744382"
      },
      "source": [
        "transform = transforms.ToTensor()\n",
        "\n",
        "trainset = torchvision.datasets.MNIST(root='./data', train=True, download=True, transform=transform)\n",
        "testset = torchvision.datasets.MNIST(root='./data', train=False, download=True, transform=transform)\n",
        "\n",
        "trainloader = torch.utils.data.DataLoader(trainset,batch_size=200, shuffle=True)\n",
        "testloader = torch.utils.data.DataLoader(testset,batch_size=200, shuffle=False)"
      ],
      "execution_count": null,
      "outputs": [
        {
          "output_type": "stream",
          "text": [
            "Downloading http://yann.lecun.com/exdb/mnist/train-images-idx3-ubyte.gz to ./data/MNIST/raw/train-images-idx3-ubyte.gz\n"
          ],
          "name": "stdout"
        },
        {
          "output_type": "display_data",
          "data": {
            "application/vnd.jupyter.widget-view+json": {
              "model_id": "c72b5687e3514eb88d65cb4932a9be74",
              "version_minor": 0,
              "version_major": 2
            },
            "text/plain": [
              "HBox(children=(FloatProgress(value=1.0, bar_style='info', max=1.0), HTML(value='')))"
            ]
          },
          "metadata": {
            "tags": []
          }
        },
        {
          "output_type": "stream",
          "text": [
            "Extracting ./data/MNIST/raw/train-images-idx3-ubyte.gz to ./data/MNIST/raw\n",
            "Downloading http://yann.lecun.com/exdb/mnist/train-labels-idx1-ubyte.gz to ./data/MNIST/raw/train-labels-idx1-ubyte.gz\n"
          ],
          "name": "stdout"
        },
        {
          "output_type": "display_data",
          "data": {
            "application/vnd.jupyter.widget-view+json": {
              "model_id": "adc9254470524ec690f9e47406560a7b",
              "version_minor": 0,
              "version_major": 2
            },
            "text/plain": [
              "HBox(children=(FloatProgress(value=1.0, bar_style='info', max=1.0), HTML(value='')))"
            ]
          },
          "metadata": {
            "tags": []
          }
        },
        {
          "output_type": "stream",
          "text": [
            "Extracting ./data/MNIST/raw/train-labels-idx1-ubyte.gz to ./data/MNIST/raw\n",
            "Downloading http://yann.lecun.com/exdb/mnist/t10k-images-idx3-ubyte.gz to ./data/MNIST/raw/t10k-images-idx3-ubyte.gz\n",
            "\n"
          ],
          "name": "stdout"
        },
        {
          "output_type": "display_data",
          "data": {
            "application/vnd.jupyter.widget-view+json": {
              "model_id": "6d1c5d0fc4534fbc8eb4da7471687655",
              "version_minor": 0,
              "version_major": 2
            },
            "text/plain": [
              "HBox(children=(FloatProgress(value=1.0, bar_style='info', max=1.0), HTML(value='')))"
            ]
          },
          "metadata": {
            "tags": []
          }
        },
        {
          "output_type": "stream",
          "text": [
            "Extracting ./data/MNIST/raw/t10k-images-idx3-ubyte.gz to ./data/MNIST/raw\n",
            "Downloading http://yann.lecun.com/exdb/mnist/t10k-labels-idx1-ubyte.gz to ./data/MNIST/raw/t10k-labels-idx1-ubyte.gz\n"
          ],
          "name": "stdout"
        },
        {
          "output_type": "display_data",
          "data": {
            "application/vnd.jupyter.widget-view+json": {
              "model_id": "6397f19ad93a480da04543bf2d3befdf",
              "version_minor": 0,
              "version_major": 2
            },
            "text/plain": [
              "HBox(children=(FloatProgress(value=1.0, bar_style='info', max=1.0), HTML(value='')))"
            ]
          },
          "metadata": {
            "tags": []
          }
        },
        {
          "output_type": "stream",
          "text": [
            "Extracting ./data/MNIST/raw/t10k-labels-idx1-ubyte.gz to ./data/MNIST/raw\n",
            "Processing...\n",
            "Done!\n"
          ],
          "name": "stdout"
        },
        {
          "output_type": "stream",
          "text": [
            "/usr/local/lib/python3.6/dist-packages/torchvision/datasets/mnist.py:480: UserWarning: The given NumPy array is not writeable, and PyTorch does not support non-writeable tensors. This means you can write to the underlying (supposedly non-writeable) NumPy array using the tensor. You may want to copy the array to protect its data or make it writeable before converting it to a tensor. This type of warning will be suppressed for the rest of this program. (Triggered internally at  /pytorch/torch/csrc/utils/tensor_numpy.cpp:141.)\n",
            "  return torch.from_numpy(parsed.astype(m[2], copy=False)).view(*s)\n"
          ],
          "name": "stderr"
        }
      ]
    },
    {
      "cell_type": "markdown",
      "metadata": {
        "id": "zKOZG60blApM"
      },
      "source": [
        "These are functions for visualizing features of CNN. You don't have to look in detail."
      ]
    },
    {
      "cell_type": "code",
      "metadata": {
        "id": "u3IgkZKJQ6Tp"
      },
      "source": [
        "def vis_feat(f1, f2, inp):\n",
        "  l = [f1, f2]\n",
        "  fig, axes = plt.subplots(11, 8, figsize=(12.5,12.5))  \n",
        "  plt.subplots_adjust(left = 0, bottom = 0, right = 1, top = 1, wspace=0, hspace=0.1)\n",
        "  ax = axes[0,0]\n",
        "  ax.imshow(inp[0], cmap='gray_r')\n",
        "  ax.set_title('Original image')    \n",
        "  ax.axis('off') \n",
        "  \n",
        "  for i in range(7):\n",
        "    ax = axes[0,i+1]\n",
        "    ax.axis('off')  \n",
        "\n",
        "  for i in range(32):\n",
        "      r = 2 + i // 8\n",
        "      c = i % 8\n",
        "      ax = axes[r, c]             \n",
        "      ax.imshow(f1[i], cmap='gray_r')\n",
        "      if i == 0:\n",
        "        ax.set_title('Output from conv1')      \n",
        "      ax.axis('off')\n",
        "      if i < 8:\n",
        "        ax = axes[1, i]\n",
        "        ax.axis('off')\n",
        "\n",
        "  for i in range(32):\n",
        "    r = 7 + i // 8\n",
        "    c = i % 8\n",
        "    ax = axes[r, c]             \n",
        "    ax.imshow(f2[i], cmap='gray_r')\n",
        "    if i == 0:\n",
        "      ax.set_title('Output from conv2')      \n",
        "    ax.axis('off')\n",
        "    if i < 8:\n",
        "        ax = axes[6, i]\n",
        "        ax.axis('off')\n",
        "\n",
        "  plt.xticks([]), plt.yticks([])\n",
        "  plt.show()"
      ],
      "execution_count": null,
      "outputs": []
    },
    {
      "cell_type": "code",
      "metadata": {
        "id": "1D--anvmUJjK"
      },
      "source": [
        "def vis(model, loader):\n",
        "  with torch.no_grad():\n",
        "    for i, data in enumerate(loader, 0):\n",
        "      images, labels = data\n",
        "      f1 = model.conv1(images)\n",
        "      f2 = model.conv2(model.pool(F.relu(f1)))\n",
        "\n",
        "      vis_feat(f1[0], f2[0], images[0])\n",
        "      break   "
      ],
      "execution_count": null,
      "outputs": []
    },
    {
      "cell_type": "markdown",
      "metadata": {
        "id": "QlCTyc-9n5h-"
      },
      "source": [
        "### **1.1. Implement of CNN using pytorch**\n"
      ]
    },
    {
      "cell_type": "markdown",
      "metadata": {
        "id": "eWa-l_UDcjfc"
      },
      "source": [
        "Construct convolutional neural network below using `torch.nn.Conv2d`, `torch.nn.MaxPool2d`, and `torch.nn.Linear` \n",
        "![성남week3_1.png](data:image/png;base64,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)"
      ]
    },
    {
      "cell_type": "code",
      "metadata": {
        "id": "8GBhiCKUX4rk"
      },
      "source": [
        "class CNN(nn.Module):\n",
        "  def __init__(self):\n",
        "    super(CNN, self).__init__()\n",
        "    # Construct convolutional layer    \n",
        "    self.conv1 = nn.Conv2d(in_channels=1, out_channels=32, kernel_size=(5,5))\n",
        "    # num of input channel = 1, num of output channel 32, kernel size = 5×5 \n",
        "    self.pool = nn.MaxPool2d(kernel_size=2, stride=2) # Max-pooling with kernel size = 2×2, stride = 2\n",
        "    self.conv2 = nn.Conv2d(in_channels=32, out_channels=32, kernel_size=5)\n",
        "    # num of input channel = 1, num of output channel 32, kernel size = 5×5 (5 = 5×5)    \n",
        "    \n",
        "    self.fc1 = nn.Linear(in_features=512, out_features=128)\n",
        "    self.fc2 = nn.Linear(in_features=128, out_features=10) # The output size of last FC layer must be equal to num of class\n",
        "\n",
        "  def forward(self, x):\n",
        "    batchsize = x.size(0)\n",
        "    x = self.conv1(x) # output for feature visuallization\n",
        "    x = self.pool(F.relu(x)) # Convolutional layer -> ReLU activation -> max_pooling\n",
        "    x = self.conv2(x)\n",
        "    x = self.pool(F.relu(x))\n",
        "    x = x.view(batchsize,-1) # Change the shape of output from [batch_size, channels, height, width] to [batch_size, channels*height*width]\n",
        "    x = F.relu(self.fc1(x))\n",
        "    out = self.fc2(x)\n",
        "    return out"
      ],
      "execution_count": null,
      "outputs": []
    },
    {
      "cell_type": "markdown",
      "metadata": {
        "id": "pQYeUvoUeQ7m"
      },
      "source": [
        "Define a function `train` for train the model and `evaluate` for test the model and measure its accuracy  "
      ]
    },
    {
      "cell_type": "code",
      "metadata": {
        "id": "WivahTvPUPCP"
      },
      "source": [
        "def train(model, n_epoch, loader, optimizer, criterion, device=\"cpu\"):\n",
        "  model.train()\n",
        "  for epoch in tqdm(range(n_epoch)):\n",
        "    running_loss = 0.0\n",
        "    for i, data in enumerate(loader, 0):\n",
        "      images, labels = data\n",
        "      images = images.to(device)\n",
        "      labels = labels.to(device)\n",
        "      optimizer.zero_grad()\n",
        "\n",
        "      outputs = model(images)\n",
        "      loss = criterion(input=outputs, target=labels)\n",
        "      loss.backward()\n",
        "      optimizer.step()\n",
        "      running_loss += loss.item()\n",
        "    print('Epoch {}, loss = {:.3f}'.format(epoch, running_loss/len(loader)))\n",
        "  print('Training Finished')\n"
      ],
      "execution_count": null,
      "outputs": []
    },
    {
      "cell_type": "code",
      "metadata": {
        "id": "Hll3oq0NW9rq"
      },
      "source": [
        "def evaluate(model, loader, device=\"cpu\"):\n",
        "  model.eval()\n",
        "  total=0\n",
        "  correct=0\n",
        "  with torch.no_grad():\n",
        "    for data in loader:\n",
        "      images, labels = data\n",
        "      images = images.to(device)\n",
        "      labels = labels.to(device)\n",
        "      outputs = model(images)\n",
        "      _, predicted = torch.max(outputs.data, 1)\n",
        "      total += labels.size(0)\n",
        "      correct += (predicted==labels).sum().item()\n",
        "    \n",
        "  acc = 100*correct/total\n",
        "  return acc"
      ],
      "execution_count": null,
      "outputs": []
    },
    {
      "cell_type": "markdown",
      "metadata": {
        "id": "vfTBz9VUev0l"
      },
      "source": [
        "Train the model using a function `train`\n",
        "\n",
        "When we use only CPU, it takes long time due to tremendous computation of convolutional layer.\n",
        "\n",
        "You can see how much it takes for one epoch for example."
      ]
    },
    {
      "cell_type": "code",
      "metadata": {
        "id": "SSClkvkfYpC1",
        "colab": {
          "base_uri": "https://localhost:8080/"
        },
        "outputId": "28768a4d-f49a-48cf-d88a-c9571c4338ef"
      },
      "source": [
        "cnn_model = CNN()\n",
        "optimizer = optim.SGD(params=cnn_model.parameters(), lr=0.001, momentum=0.9)\n",
        "criterion = nn.CrossEntropyLoss()\n",
        "train(model=cnn_model, n_epoch=1, loader=trainloader, optimizer=optimizer, criterion=criterion)"
      ],
      "execution_count": null,
      "outputs": [
        {
          "output_type": "stream",
          "text": [
            "100%|██████████| 1/1 [00:41<00:00, 41.01s/it]"
          ],
          "name": "stderr"
        },
        {
          "output_type": "stream",
          "text": [
            "Epoch 0, loss = 2.176\n",
            "Training Finished\n"
          ],
          "name": "stdout"
        },
        {
          "output_type": "stream",
          "text": [
            "\n"
          ],
          "name": "stderr"
        }
      ]
    },
    {
      "cell_type": "markdown",
      "metadata": {
        "id": "-qwvMTj3ffWf"
      },
      "source": [
        "As you can see, it takes really long for just one epoch.\n",
        "\n",
        "Rather than using CPU, let's try other way. \n",
        "\n",
        "Train and test the model using functions `train` and `evaluate`  \n",
        "\n",
        "You can reduce training time using GPU that works as neural network accelarator.\n",
        "\n",
        "- CNN shares parameters of the kernal, so you can accelarate the network with powerful parallel computing of GPU. "
      ]
    },
    {
      "cell_type": "code",
      "metadata": {
        "id": "i4AeLIobiBdD",
        "colab": {
          "base_uri": "https://localhost:8080/"
        },
        "outputId": "c7fe0547-90a1-4f3a-e50e-694d5d1cf012"
      },
      "source": [
        "cnn_model = CNN().to(\"cuda\")\n",
        "optimizer = optim.SGD(params=cnn_model.parameters(), lr=0.001, momentum=0.9)\n",
        "criterion = nn.CrossEntropyLoss()\n",
        "train(model=cnn_model, n_epoch=15, loader=trainloader, optimizer=optimizer, criterion=criterion, device=\"cuda\")\n",
        "acc = evaluate(cnn_model, testloader, device=\"cuda\")\n",
        "print('Test accuracy: {:.2f}%'.format(acc))\n"
      ],
      "execution_count": null,
      "outputs": [
        {
          "output_type": "stream",
          "text": [
            "  7%|▋         | 1/15 [00:05<01:21,  5.79s/it]"
          ],
          "name": "stderr"
        },
        {
          "output_type": "stream",
          "text": [
            "Epoch 0, loss = 2.210\n"
          ],
          "name": "stdout"
        },
        {
          "output_type": "stream",
          "text": [
            "\r 13%|█▎        | 2/15 [00:11<01:14,  5.77s/it]"
          ],
          "name": "stderr"
        },
        {
          "output_type": "stream",
          "text": [
            "Epoch 1, loss = 0.909\n"
          ],
          "name": "stdout"
        },
        {
          "output_type": "stream",
          "text": [
            "\r 20%|██        | 3/15 [00:17<01:08,  5.74s/it]"
          ],
          "name": "stderr"
        },
        {
          "output_type": "stream",
          "text": [
            "Epoch 2, loss = 0.389\n"
          ],
          "name": "stdout"
        },
        {
          "output_type": "stream",
          "text": [
            "\r 27%|██▋       | 4/15 [00:22<01:03,  5.73s/it]"
          ],
          "name": "stderr"
        },
        {
          "output_type": "stream",
          "text": [
            "Epoch 3, loss = 0.300\n"
          ],
          "name": "stdout"
        },
        {
          "output_type": "stream",
          "text": [
            "\r 33%|███▎      | 5/15 [00:28<00:57,  5.72s/it]"
          ],
          "name": "stderr"
        },
        {
          "output_type": "stream",
          "text": [
            "Epoch 4, loss = 0.248\n"
          ],
          "name": "stdout"
        },
        {
          "output_type": "stream",
          "text": [
            "\r 40%|████      | 6/15 [00:34<00:51,  5.72s/it]"
          ],
          "name": "stderr"
        },
        {
          "output_type": "stream",
          "text": [
            "Epoch 5, loss = 0.211\n"
          ],
          "name": "stdout"
        },
        {
          "output_type": "stream",
          "text": [
            "\r 47%|████▋     | 7/15 [00:40<00:45,  5.71s/it]"
          ],
          "name": "stderr"
        },
        {
          "output_type": "stream",
          "text": [
            "Epoch 6, loss = 0.183\n"
          ],
          "name": "stdout"
        },
        {
          "output_type": "stream",
          "text": [
            "\r 53%|█████▎    | 8/15 [00:45<00:40,  5.72s/it]"
          ],
          "name": "stderr"
        },
        {
          "output_type": "stream",
          "text": [
            "Epoch 7, loss = 0.162\n"
          ],
          "name": "stdout"
        },
        {
          "output_type": "stream",
          "text": [
            "\r 60%|██████    | 9/15 [00:51<00:34,  5.71s/it]"
          ],
          "name": "stderr"
        },
        {
          "output_type": "stream",
          "text": [
            "Epoch 8, loss = 0.147\n"
          ],
          "name": "stdout"
        },
        {
          "output_type": "stream",
          "text": [
            "\r 67%|██████▋   | 10/15 [00:57<00:28,  5.71s/it]"
          ],
          "name": "stderr"
        },
        {
          "output_type": "stream",
          "text": [
            "Epoch 9, loss = 0.133\n"
          ],
          "name": "stdout"
        },
        {
          "output_type": "stream",
          "text": [
            "\r 73%|███████▎  | 11/15 [01:02<00:22,  5.73s/it]"
          ],
          "name": "stderr"
        },
        {
          "output_type": "stream",
          "text": [
            "Epoch 10, loss = 0.122\n"
          ],
          "name": "stdout"
        },
        {
          "output_type": "stream",
          "text": [
            "\r 80%|████████  | 12/15 [01:08<00:17,  5.72s/it]"
          ],
          "name": "stderr"
        },
        {
          "output_type": "stream",
          "text": [
            "Epoch 11, loss = 0.114\n"
          ],
          "name": "stdout"
        },
        {
          "output_type": "stream",
          "text": [
            "\r 87%|████████▋ | 13/15 [01:14<00:11,  5.73s/it]"
          ],
          "name": "stderr"
        },
        {
          "output_type": "stream",
          "text": [
            "Epoch 12, loss = 0.107\n"
          ],
          "name": "stdout"
        },
        {
          "output_type": "stream",
          "text": [
            "\r 93%|█████████▎| 14/15 [01:20<00:05,  5.73s/it]"
          ],
          "name": "stderr"
        },
        {
          "output_type": "stream",
          "text": [
            "Epoch 13, loss = 0.100\n"
          ],
          "name": "stdout"
        },
        {
          "output_type": "stream",
          "text": [
            "100%|██████████| 15/15 [01:25<00:00,  5.72s/it]"
          ],
          "name": "stderr"
        },
        {
          "output_type": "stream",
          "text": [
            "Epoch 14, loss = 0.094\n",
            "Training Finished\n"
          ],
          "name": "stdout"
        },
        {
          "output_type": "stream",
          "text": [
            "\n"
          ],
          "name": "stderr"
        },
        {
          "output_type": "stream",
          "text": [
            "Test accuracy: 97.63%\n"
          ],
          "name": "stdout"
        }
      ]
    },
    {
      "cell_type": "markdown",
      "metadata": {
        "id": "E-LKKrtLlTO6"
      },
      "source": [
        "Now, let's see the visualization of features of CNN we trained.\n",
        "\n",
        "You can run it several times to see different images each time."
      ]
    },
    {
      "cell_type": "code",
      "metadata": {
        "id": "ObgdcF7AXVqY",
        "colab": {
          "base_uri": "https://localhost:8080/",
          "height": 947
        },
        "outputId": "878a2056-811b-4075-be7c-f41317576ca4"
      },
      "source": [
        "vis(cnn_model.cpu(), trainloader)"
      ],
      "execution_count": null,
      "outputs": [
        {
          "output_type": "display_data",
          "data": {
            "image/png": "[encoded data removed]",
            "text/plain": [
              "<Figure size 900x900 with 88 Axes>"
            ]
          },
          "metadata": {
            "tags": [],
            "needs_background": "light"
          }
        }
      ]
    },
    {
      "cell_type": "markdown",
      "metadata": {
        "id": "tESI4hc9ls85"
      },
      "source": [
        "### **1.2.Comparison between CNN and Multi-Layer Perceptron (MLP)**\n",
        "\n",
        "Compare CNN with MLP\n",
        "  - CNN needs more number of computations and also longer training time\n",
        "  - CNN has fewer parameters\n",
        "  - CNN shows higher performance in image processing task  "
      ]
    },
    {
      "cell_type": "markdown",
      "metadata": {
        "id": "aujI1L76hTAs"
      },
      "source": [
        "Construct MLP using `torch.nn.Linear`\n",
        "\n",
        "![성남week3_2.png](data:image/png;base64,iVBORw0KGgoAAAANSUhEUgAABxwAAACqCAYAAAHgogrpAAAAAXNSR0IArs4c6QAAAARnQU1BAACxjwv8YQUAAAAJcEhZcwAAFxEAABcRAcom8z8AAGZmSURBVHhe7b1/0CxXed95bWSwEBK6iIuCsIy5AgMSNrpYKLIWDEFYF2NiYCkJIgxL1sgsJjYKy6+VLDDREvtiS4qxCqtYORAkLOx1RVuOtZIX6gqspSopOxhnq3Qj2YorVXL+UKmM5ZSrpFTlnX2+8/Yz95nzPt3TM2/3TM/M51P1qZnpPn361zmn+zlnpucAAMCyGY2+vqve705aOkPYhovMkXjwwQdXuR2wxUwqwgorxBC24cCxY8fGlTFik5e+HTCbU8zv7dmnmk08xcyW25dlRXBtXsZ3m2k++3SebRBPM7N89uNXqjo45qKLLhq/2nQq5MD4LnN02WWX9aqt40dNVfw6Rr/zZzd1blEBZlWGNI/9qnzn2IanZXns1ze9+7XjCujYeiav47XC0hmfgEA1eWkV8g3m92iFNaQFab8qX68AoSLUFcI0j/2qfOfYhu/N8uhCy7s69SexaV8erxWWSnX496B5g6+QL7/0Jen0tirvz394V70fry0nXb4LlfeRFx0YHb955jb0ViGl5T86ceKEb0PTdkCPVPVvD5q3VhXynde8aWpenP7Zu69L57m2jreYiqfqSJebpS+n11l5VGkOmXXMVSEt/ehTX/z50WlnnDpW0+qOkatlzBdrZbAaqvq3B83bmAqZTY/aOjayQh6+4NzJuvWeCrkeVHVwQjV5doV85JFHqkVGo1tuuWX8GueXnzNtHU0V8j1mWni61NbRVCG/Y6bLdanWYdZVSM3r9ZZVVuuhQg6AceUxqo9jWldIvVeFLOe30dbRVCGvMdPC06W2DiqkWa2HCjlQ5rpl7alCiqlC4/GQpsdbsDKde/a5Z3lBS+dLmzfXLevlV146ftVtYJwuP37L1ZP3vn3l8plKYy50y2rzpt77PtelkYov42epNCYVcqCsVQzZpApfUz42b64KqfWqYchisjJtnBa3t0ynz+ZcFbJp/WWF8+l1n32aSYUcKIOvkHLWfF0t3vre14/f16W16XNVSP9cXgHL6dEyTbyS+nRzX506lmb86vvsn+O88jWqaSYVcqCsRYXsQlvHXBWyD7UOc18Vcr/aOiQVcqBQIU+SLtelWodJhYRaVCFfZl5pvr1HX202fZf1PPMKM1u2K19vNn3J/VmmKm22bFcq/4NmHfpi+Y+b2bJdqeN82ISBokJwes+eaqry16GrZ7Zclz7dbNoG/eLkGWa2bFcqf62nDm2ftjNbtiu1DU13KzAw/trUbY3w17PMj+6+3YPSO54eAAAAAAAAAABgIUYfeceB8S/09arPu5OXyu6T3mwbHrx9Zdsgxj8QEHq/OwlgOfxIfFyGq+m7s5fDsfel27DsylBVw5No2u4sGAoa6+rjyWaleopbE31sw6Tg6/Xg6TMrgsbjsnz241e0zvt/Y3pb9Gpm9PLEPXNcAb/97W+PXx2bDgMi/Wpbl2od5tnjteX08mQ1y3eqArj6rJUWfHeWx34dP93N1umVccY2iDSf/ap8M3ZXCaugOgVjqklLq4znjteW09t3NWMFCBUh4ynZ8l1oeWfbUPdktzSP/ap8SzRtvEZYOtUpmGI8PatAXap1mPuujNmPamd59B2vGq//vx8fb4O8RStMaKyMNn/qdV613IkvTbZB1pEuL5vmtVHLHzlyZHT8+PFZ2wA9U9W/KcbTswrUpVqH2VlltPTjH/rqN4fZL/YztYzZ9CuG1pVRxt8a3vaNG6bS1lktqy/SN8XP6bIyzmtKN0tbdtYvW6Bnqvo3xXh6VoG6VOswO62M0p+mdvX1V+xJW1ot01llVEPg07IfImdWy1IZYX+VUej10UcfHd1+++3jh1rFB1s1qXWYdZVR81b9+z7N6y1mdKv11FXGm6vXdNkutXVQGQfAzs7OF1R/9FpNan9l9AdXCSrj/FbraaqMZ5rpsl1q66AyDpS0AnWp1mHu6zbV0oxfy1tCPSsmfpaK4Ty9q8/mvm5T9RArvWbz/L2ei6OnomvaB4+9a086c+7bVE3TPmnfmzqxfFm9+pP4Mm0+lXGgpBWoS7UOs3Vl9Kew2fRYgCYFMk7LnjCn6Z/53Q/vmWYuXBn9bwcs3Z55sYL4/CydppkLx4wxTm2yg79IgBWRVqAu1TrMua+MscPGeyzLAllW3PLV1Wdz4cqo9WSNhIzb6a9ZD6umm3NXRq9c3hB5miytjNuaactRGQdKWoG6VOsw93Wbul9tHXLhytiFtg658JWxK20dVMaBklagLtU6TCojlRFmoIcWvcnMni7WlW8zn2vWMYQnpamCXGxmy3apfk7VVBmH8PQ8WBEqGKeZ5VPFulRPKGt6fONQnpKmq0W2bJfOuiIN4cl5MDB0OxP5dPUanwxXcm/1+qrqFQAAAAAAAABWj4aOfPgk2jSktKlkx8H7M7YNjgUAbCXjBq98skfU0yjxhjN66I78GMhLzt+a4yBGDz300PiHVRmXXHLJNh0LANgyRp9+78nGX5/1LDrpD6d0lU7zx0ttJpN99WMgb/3Q7n7HY6HP4yU2l+oSuIs+Hzt2bPc4FGiaFgCAHK8km6C6EfUduKYvgtahJwlneQ7WpNFP54X5bdB35qbyWgd9P3VRjNPv/MTCx0GsXZmQEb8wltNFNR1g69jZ2flkVQ3G2Gd/BtKESUOY/RRqnaz243JTF8hF/kZbX+hOf4I0RLWtL3vBdKPv73WBiP/3oXSab7ZhfEHI1jlUtb1x3/29jPP8s9mWtSoTUtsbOXjwYPVu92IY0WcTYGuoin4jVdKNuzi+wdyKi6M8/6IXjvc7Nv6lmm/eZ7Zl7S6OUtt86Mz8GEjNr5yHtSsTUtt86NChqqrvRfMrAbaGqvi3Qum5OJ5k4YYweySUHl2lx0rVPUwyPsZKD6GMf16gx1I1PWYq89I3HPFj4P6BqX2al31dHMtl/bP2R/sZn/mnfb706IWTz3pevNL7sdH7ebflxrs+NlkueMhcpKt94TJRt5ymq2zE+f7AzzKdlwEdMx2by6+8dCrNLGuOxSJlAmDtqa57rVB6Lo4n6eXi6J89b726+qxl9V4NX0y/qFXeehKVnso1mIujv/o+6nO0nBaXWcSQl54MNqiLY3zvF0pX0/0p2n6s9lsuqrz3UyYA1p7qutcKpV/5xVFk0+e12o+t6lbN1D6YK7s4DkXtQ+VKLo5DUvtgcnEEMMYXnXr0X0hjOrk46s+q9Cp8mv7Qyv/UKs7ztNky+9H3Y79mjcs6me3TImZ5r5PZPi1qlv86We0HF0eAOej94ijuuuuu0RNPPDFJo+n+WX/PGi+ii1rtR6+RYzkWJr3LS2Nn2Z+ez+oS0x+W+/tsfFJdbJ6H/pAuzsustqv3yDH+WV+5XeXySjvveFm5jP6AL+Y76/+slbZyJZFjPO/aj3i8svOcWf7xX1xmnu1SWpOLI8Ac9Nqt2sVFr63VfvR2ccz+GDH+UaTGDtWA+3/I+YWy6eKo9WXjlf5PrHF7/H2WPqp0Zq8Xxzhf7+M++v778SrT+vtSX06Wy8SLZJwXv8xTqnSVK704xuXLvMp/3C2N6cvjWs5vUulMLo4Ac8AXck7S2BCWF6WYtnyvi6YaM1kXMfl8XUS94fNoyKOMmK83pJ62Ti1j9npx9GPh+6B99O3yC5bvd8yr7ljIuF/lMnUXhKbt1LzK3i+O2Q2QT4v77HmV57nOuO7yuJbzm1Q6k4sjwBxwcTzJzIZw1vwmmy4M8ziEyDGLoucx/oxlUdtcWCqXEjm2TZc5q4t4v2rbTC6OAHPAxfEkrRvCIat9MHu9OK6D2odKvq26/zIBsHVMLo4b4lFzXxfHDfHN5r4ujhuk/nb72ebCF8cNcT9lAmAreZr5XPMC84j5ijX15eZ55hnmIg3hKaYa0ZeY63wctO1qBM8ytU/zohump5vPN3/YzNaxLmr7v9/U/mi/5oUyAQDjxiNT3VL+Xg1FnOf+dfXqd6l6/4+q16jPazKm0R+z+mvcjib3S5bnOtoFWb7rZhdk+a6jANAhulhlxOm6I3V8+l+YPl0XzyZ8/leqV+eN5kcrP6cJAAAAAAAAAAAAAAAAAADQORrnzdw2XmNyHHbhWADA1nKOOW70Gv75Xmm2gfH+3vSB6eNw8Usnx+GEEm0Ju8fippvGD/p3Lr744m08FgCwhYyO3zx9MYhqntLsJt1oxvuZHQO3SvMHSrzh7B6LBqo023AsAGALGX3sqr0XgVKlUdrdRTaScfdhtu+lSjdeYnPZPRYtULrxEgAAG8ZUw3/rhw6M7v+NA6O7f2X3IhDn6fN4ic1kdOPPTe+rjoPU++Q4fMPcVEY33nhjdfkbja699trReeedN37VvIg+m5t8LAD2jR619lRTz1xcZ/UYPD0aa9Engeg46JmsWd5D87fNqYZfF4N4EYjz9Nm83WyLnq+q45mte2ju2df4WTcN/v6O6ybHoi3rVCZkdenbJX4+duxY9W6XO+64Y95jAbBVqPJ7JVl39VxVPd5ukYeO64Ka5Tlo40UgTj/6ynTe35ptWLsHjyf7ms57/O7J9DasZ5ko8Om33nprNWWXxx9/3OcBbB1VNZhQTZ5CkVb6F1DrpPbB/HFTD4g+zZw3ehzfJGR/9zNEf+ofv268z7Hh98jxvHOmp0ulNY+ZbVDEmK53iGpby33N3svr3z05Fm1YqzIhtb11fPvb367e7XL99dfPcywANoKq+NdSJRujKCu94KyT2gfzClP/PnC6Oe/Fce3+w1DbGxv+Ft2qbRl3z2XrHKLaVv1cI9t3RdCP/f70PFPP6W3DWpYJ/VzD0efHHnts/P7gwYPjV0fzzLbHAmDtqYr+TKrkG3VxfLupv+fRX1ZtxcVResNfp6cz27JWF0ep7c32PXrPZ+Y+DmtXJqS2eRb33HPPvMcCYO2piv9MquRcHCvWtiGU2cVA+nxzHtbu4vi8Fzyn8Tjc+6uT4/Assy1rWSYmx6KGe++9d5FjAbDWVMW/NVqGi+Mu+2oIy2X3k9e8al3yOQcPjP7k87vqvU8352Xhi+Oiy3XhK159/mSf9a1UffkmjDHKeS8G+yoTL7/0JVOf95PXvE4dizvuGH/5JowxSi6MsFVU17zWaBkujrv0cnHU6+ELzh1dfuWlk3lqNGPD+cFj7xqn++zd102WKfOb5W3fuGGyXPAHTX2pZF46vzhqf7V/cb5vc0x32hmnTo7Np77482MvPXrhVJpZvuQVh33/3V81tU/z0svF8Z3XvGm8nzrvPu/sc8+aKiNvfe/rJ+ml3i+yLcmx+JS5SJkAWGuqa15rtAwXx116uzjq9eO3XD31uXwfP5fT51HLVr7aPGQO5uLo7z2NLhJxni4QnsYvjP55EbUe8y3mi83BXBz9VTdN8bPUMYj7XS6ziFq2cj9lAmCtqa55rdEyXBx36fXi6A2ePkfLaXGZRQx5Df7iqFdXn3Vh0HtFTZt8cfTp/qrp0XJaXHYRQ15cHGGrqa57M6mSc3GsWMrFMUZHmjfQKGEpF0d1LcZXn67uxW27OHoalY/sWO1nO7RsJRdH2Gqqa99MquSrvzg+8sgj6fR51D6YK7s4DkXtQ+VKLo5DUvtgruziOBS1D5VcHGHrqa5/tVTJxnRycRR6veuuu8bvn3jiicl0J6bL5u1H7YO5yMXRl932hvBmU8uJbb84arnvmFwcATaU6tIzoZo8RacXxxtuuGHqs7/Kb37zm1Of/X2HkeO+zRqXdTLbp0XN8l8ns31axCzvdTLsCxdHgDno9OJYfvZX+cADD0x99vcr7lb1ZYkcd5c70yRyJHIE2Hp6vzh6V6s+6/23vvWtcberT/PX/ah9MHsfc1QafWFCr26c579VdP3LJk3GPPT1/vi7Pn0pJc6f9Zs/3yZzPw3hzIvjZ373w1OfY3odn/ilkvL3jXXGNNky+uy/DdQ3WuO8TKU3lzbmGNP6z1TivFg2yvPcxvK4tlXrruTiCDAHvX4hp4sLXxu1D2avF8f4o23XGzhf1n+7JrMfuZdqvqeJF1Jv/H2dnqa8+JZ6fmavF8fYSCutp4/T/Vj4j9ub8ox5yHIZf9Ux9TSzbjyqPJdycYznRdsVl/P3fsHMznNpeVOUHde226Z0lVwcAeaAi+MuMxvCcn787O/jNDVoTXmWF74yv/IJKv6+6aKg5Sp7uzjG7fII0tPH5fQ+XjTiE2AyfdlsmZivXyjitEzNN5dycSzTxc/xwlZe9BbJv+0yrtJXcnEEmINeL47LUvtgLvXi6E+9ifPKu/qmPK++/orxa5ZW72PXXGxgm/LUvMreLo5xXhk5x3l6H3+rWHY1lvqy2TIxXz8Wfvzq1DLmyi+O8aag64tjm65Zpa/k4ggwB1wcd5nr4hgjOVk21GoEvSGMjb2r7sGYRtOa8o/z4vtSzatcysUx7kPZjezvy+iyzji/KSL1yLLNxdZc+cXR3/t2x3nlea4zy0/OOgZS6Su5OALMARfHXea6OJZp1chpWjk9fo7RX7TMN/scvwDT9GUUT2/2dnHMjOn1Pn72MbiyG7m0aRm/8MY0dfm4VfqVXxy1D/ocu8P1OaYpl88sl4njr036ciYXR4A54OK4S+uGcFGzCHJe24zbVfZ6cZw1v8n4paX9OKTIcb+2iQBL226b0lVycQSYAy6OuyytIexT7UPlUiPHIap9MNfi4tin2odKLo4Ac8DFcRcawpNwcdyFMgGwxXBx3IWG8CRcHHehTABsMeOL44Z4pXnEXPjiuEG+yny2ufDFcUN8s7mvi+MGuZ8yAbB16OJ4jvka822moq91VBfGnzQvMJ9hzntxVIPxLPNiU9FGto51Udt/kXnQXKQhfJp5nvnj5hVmto51UNv+evOw+VRzXigTAFuMKsozzReaF5rqllxHFTHqwvhcU437vOhi+nTz+eYPm9k61kVt//eb2p95bxLEKaYijJeYOq7ZOtZBbbuixrNM7dO8UCYAthw1HKeairhOX2NPMxUhLHpnrG40db+t+3HQ9ms/tD+LoMZTPQpqSLP810UdB+2D9mXRCwJlAmDLUeOR+bnqVWMW91bv/6J6bfJjyTRFI22WVTqtT+/VvafXP65eZ9kFWb7rZhdk+a6jXZDlu24CQA+8w3y5+dHqVegCFvHPugD6e3Vp/fXu2zG6wDbhyyndp3ffjqfNWg4AAGCplBdDfxXZNKGLotCF0d+LWRc5faNO+AVVkasuyLrg6osVAAAAAAAAAAAAAAAAAAAAAAAAAAAAALBf3mD+H+a/N/VtcL3qs6bDdnK1+WXzQfNvzfvMXzP1CFDYXigXAAAAAFvE35gKEOdVy8Fmkp3vNv66CZtLds7bSLkAAAAAWFOeZ05u7H7hbQdGo6+3V+nj8qbyg/VGfyw2OafH3pef+zrjsuaTJmwG0+Xi2LHRPMRlTcoFAAAAwBrx38zxjdwffTYPAtqq5T2vKl9YTybn8aE78nPd1kNnTpUJ/dEtrC8ny8VDD1Wh4GIcOnSIcgEAAACwRkxu3rKb/jg/+vbXHRg99vv5MrJID+vF5NyV5/X+35g6r1Ne+9N707u3fWQq7fkmrB+Tc1jHY489Njp69Ogk3bXXXlvNybntttsmaU3KBQAALIT/Wfh3B5+CKzGeg1X9iTvloR/1IIvxTVt2sy81T8FC3byjr8znSc/b/BmzaygT/fg+c3zesnPqgWM2T2peXXk58qJJeZB9QJnoz5PlogbNu/POO6tPJ9H0gwcPVp/2cuTIES8TEgAAoDW66MeLCA7DZ5nPNJ9uPtXUjYTOVd/4TWC2Tdih2Y2+1LwsENBoo+bd+Ym989yQ/380u4IysSSzc9oUON76ofp58sSXpvLvEsrEEq1DwaHmv//97x89/PDD1dTZnDhxIuYPAADQGgUkk4vIZZddhis0nIuLzZeZzzcVRH6vuYzgUfl/jznejt/5s5uwQy945Qsn5zi70Zeap4BAAYM875wDo4OnN39N1fW8zeNmV1AmevT8i5rLhAeOXh7u/pXdz00jz+7xm3fTVnYJZaJnp8pFS+6///7ReeedN16macTx+PHjk7xNAADYYHZ2dm6umv9WWPovVIvuYeriL7NgBpdnOBdvMV9n/rCpp2Webp5i9h04ahRBQep4O7IbGlzcz9/3zybn+D/8y703+lLzFCBk02U53VV+nsZ8jtkVlIkevfVrvzQ5bw/evve8euBYTvcRaP32tZzner6VXUKZ6NmpcvHgg9Xl/CS33nrreF4ds+YFAQBgA6ma/H1RZTWBwHFghnPxdlN/9v4K81zzDFPnqu/AUaOa3BD26Ctf90OT8/xf7zl5kx9v9rPAUWr0UfPL6crH8zTvMruEMtGzL7/0JZPzV57busDRrVvucFVWKruGMrEEp8pFDT4/2jTaePjw4ZgWAAA2DI0YVk1+J1h+k/tKAseBGc4FgeMGe8XPvWFyrs99zt6b/nnU8p6X+QmzaygTS/Anrnr15Dxecn5+rtv45NemyoPsA8rEkpwqF5dcUl3G5+fJJ5+c5FMJAAAbhgV5n6ya/U7xr68SOA7McC62LnD03vVsnqv5n/riz6fz1tFnP3f34RbuL74rDwZKlS4uZ/5nsy9WVibarHPZ29S3p3zPUyb7LfW3GlkZKC1GGOUVZl+stEyorcjmucvepmW4p1zcdlt1OW+mGGGUfZYLAABYIVXT3wvKn8BxYIZzQeC4RX7hm/989F3f9V3x/Ldxxzxo9s2gA8dN9cZ//dHJ/s/hV0z9/rBvBh04brILlovfNgEAYMOpYrxeUP4EjgMznAsCx0TN9xHHd17zJj9Wow8ee9dYvT/tjFMn6T/zux8eT1PeWu7yKy8df9Z0T6P0nofS+HZ89u7rJmn0WXoePr1vfb2VemDSq80Xm4dMnaeNDxJmrTPO17nz8/nxW64eXX39FeP3MdDwcqLzGM/3bd+4YZJGn5WP8lCas889azzN52uap9H7t7739ZN5fav1BreyTMTzmRm3Se91nuK50jS1H57G2wXNy86356Ppmq9y4eXM53t75GlU9uLyfar1BldVJgAAYMVUMV4vKH8Cx4EZzgWBY6Lm66ZM7/1GLc7XvDhN7z0gjNatR/P8JjLeWNal71utN0jgmBjnZ2WoLCd6X5YHDzDjcq7mX3r0wslyPq0ufd9qvUECx8S4TVn6WE78XOo16u1AXM5V4FiWtaw9WpZab5DAEQBgS9mZ86832sJvHAdqOBcEjomar5s6vW8bOMbRxVIfkYyjTVLTCBwnbFzgGOeX1gWRmuZlryxny1TrDRI4JsZtytLHcqJvFszaB+84KKfHaQSOAAAwBPQU1Cre6wTlV2U9rMDxkUceGW9gNq9vH3jggXT6sg3nYmsDx0y/YY/v2wSO0r92Fo2Bon/lzFV6efiCcydpNN3fL9O4XebWBo6ZMY2/bxM4yvKcl/PLeZ6vfyWVwHF9yoTeNwWOrufhqow0zfevvGr0UfMJHAEAYEiMg6r9c2aV3RhGHE2hoDWbt2zDuVhW4Kh1vWf37ZiV3RDiXv08VC7jhvBm8zu7bydQJgakn4dKygSuokwAAMCaoK+ZjoOdllj6+6pF9zDoEUfxxBNPTD5fddVV42nXXHPN+PMtt9wy/vzoo49O0tx11+7orH8WZVCYrWeAgeMqvdrfZzcpuDzDOVmlChoIEgain4cVS5kYkH4eKgkcAQCgFwYfOMb5Pk0Bo9574Jil8UAwvncJHGf6YX+f3aTg8gznZJUqSDjbP2fbicvTz8OKpUwMSD8PlQSOAADQCxsROGokskzjo5Li8ccf3zNfxM8DDByX+VXVa3bfjuEraAPSz0PlMr+WGL/TTpkYkH4eKikTuIoyAQAAW8jGBI4KDoW+qlouc/vtt4+/8iq1zDe/+c1x2pjGl4/TVmE4F2v/cBwt7w+h0V9i6OERUX+4hD/sxpfx/1vzx+HXPRU1+z+2efUnKso4XdutaXqaoral/M826U/f1KsekKH32QM14v9BzquWD67qhrDTMpFNl3X5a5oeVKTzoNcyjT8Z1/+Dry6fttYt32Y9/vRNlXf/v8jywSzlMvPq661c+zJR6vW/nO71Lavvvh1aLmtX2tTneczKoavps8pr2U7sV60jSOAIAAC9MKjAcV49cMzmravhXKx14KhlmwKmtk+/bHoMvt/ILxo46smpyr/uCYvlzWv8Xze/EY3zpaYpXTmtLvidpZYNrnWQULeszoHORXb+9bk8vx6QxTRxvvQn45bTm/R16bxnec5aj3celGk0TdtcTouf51HLBjcqcFRe5bFS/fRAS/PL8lAXxMVpet9Un9uq9N4RULfOWeW1btp+VF5BAkcAAOiFtQ4cN9FwLtY2cPQe/2ye1I123XwPHtxytKa8Odf78katjTGPusAxfpYxoPDtLNNkee3nJlHLBdc2SGi6ufcOhuyY1q3Pp9cFeXXnp41Znm3Wk517qWllOV4kaHG1XHBjAse6wDuq+WV9z6b5dA8Ws3zrzmlbs2Xr8qtLWwbJi6q8ggSOAADQCwSOAzOci7UNHOtuoGVTEKXp+jpaNl2vnm+d5XKZfrNYp6eL790YJNTddGpaGST49HJaG7VccG2DBC1XHhfPLzPe8Pt7tzz28b3bVAZn2XRuy2lxPXXBqqaVgU3dOtqo5YIbEzjWHb+o5pfHUtNm1bks3zbrazJbVtNmlVdX07LtXkTlFSRwBACAXiBwHJjhXKxt4Ng0cqDp5Y2fm93sN/2WSDbl19ZsveWIkH81NX79Vp/jb5X8N1j+2Z01AtuklguubZDQ5hhkN/Le0eC/lZX6HEdqyhFs/wqzf57Xuhv9NuvRZ5VZ/1z3VWulWfR3bsovuDGBY93Xv6Oan9V3TY9lQp/9K8SyTX2e15if26a8xumLfoW9VHkFCRwBAKAXCBwHZjgXa/0bR920lb/1W6Zd9eR34X6Oo5+HyrUOErRsdgO9LPfbwdCVbQKkJv08VG5M4CjVZsSAb9l2uS9Nqn3qso3y81BJ4AgAAL1A4Dgww7lY68BR6iZwKDfrq3K/x9DPQ+XaBwkaaSu/yrdN7jdolH4eKjcqcJTqXBhSx0/Xat+yr+TvRz8PlQSOAADQCwSOAzOci7UPHHH/+nmo3LggAefXz0MlZQKHUiYAAGDDIXAcmOFcEDhiLA+SIAEpE7hHPw+VBI4AANALBI4DM5wLAkeM5UESJCBlAvfo56GSwBEAAHphT+CIg/Ft5uvNl5vfZ55uLiNw1A3G5IYQB+WbzEvNF5nPNp9mLuOGkDIxXCkTWLqqMgEAABuOgpBTzKeb6pl8ofkj5o+Zl5mXm0dxqeqY69irx1ijjeeZuvjrHKmXfxmB41PNZ5oa6XyZeYn5D8wfN7Ntxn7Vcdfx13k433yeuawRaEGZGJ6UCSxddZkAAIAtwIPHU03dBCiAfK6pUS7dEODy1bHXOVDAqAu/evZ1jpZx8dc6/KbwGeazzLNN3YRk24r9q/Kg46/zcNA8zdT5WdYoAmVieFImsHTVZQIAALYE3QT4jYBGtRSktFUXKX095uPmw+afmOV0veprM+Wype80/9r0Zf6hqen6HKeXyzWp5bLps/zDQl+v3ms/fzlMi2raa4ppi6pzoXPi52eZxPIwb5nAfvTy4GVi2VAmhidlAktXXSYAAABao8BJvMr8492349c37r4d42lEfB85y/R595of3X07lV5pFBiK+F68r3rVsvvhHebndt+O0To0LW6f0G8RlU7r074DAAAAAABAgQdUThkQZp/LacIDMr06MZ2m/8Xu2zEeMMagMRIDR22fPtepADeu67AZ1yXiZwXDChY1zbdX+RA4AgAAAAAABBRsKXCKAZjQCJyCMI0UlkFlHUof8/G8PDhTXmVQOQvPYxFiEOlof+WnzWy+1kfgCAAAAAAAAAAAAAAAAAAAAAAAAAAAAAAAAAAAAAAAAAAAAAAAAAAAAAAAANvFPzP/wPwvlXqvabCdnGP+mnmf+bfmg+aXzatN2F4oFwAAAABbyC2m/uKljUoLm4/+3ic7/5mvMWE7oFwAAAAAbCG/YGY3fG3UsrB5/LqZne82wuZCuQAAAADYUr5qTm7unnXGgdF9/+LAaPT1XM1TmriMqTxgczhhTs7vxS89MHrw9rw8yBt/bqosuBeZsFlMl4uLLx49+OCDozpuvPHGWB5cygUAAADAGvKfzMlN3V/9Xh4YZCptXNZUXrD+PGlOzmt27us89r6p8iAJEjaH6XIxB8eOHYtlQlIuAAAAANaIL5rjG7lzn7M3CGjr9589dUOoPGF90QOQxufykvPz8z3Lh+6YKg8S1p+T5eKSS6pwcD4eeughygUAAADAGvI8c3ITlwUA8xjzMpU3rB8XmONzeOjM/Dy3leBxozhZLg4dqsLAxSB4BAAAAFg/Jjdv2Y3/IsY8TVg/JucvO7/zWnxtladqri8ny0UHFF9bpVwAAAAADJgXmOMbt5v/yd4b/qOvPHmjGD3vnAOjOz+xN72rvEJ6rQPWh/PN8bm77SN7z63PK1VZ+fZv7U3vFulh/ThZLm67rQr99nLrrbeODh48OE539OjR0cMPP1zNyfE8KwEAAABgoHzNHN+0ZTf7Hjje/xvTvv/Nu9MvenG+nPR8Ta0D1oc/Msfnru686ryXZULTNO/uX8mXu+kDk/IgYf04WS5q8Pnvf//7x6OJF1100fizAsg6brrppslyJgAAwNx8V+V3B5+CKzOeB52XVUCZ6MfxDdsPHd57oy89cMzmacSxbp5Unp6/2QeUiX4cn7MjL8rPq+apXGTzNBKt+dk86XmbV5t9QJnoz/G5O3LkSBXyTXPttdfunvuC+++/P50e8bzNvsoFAABsMH6x/x7zaeb34srVedD50HnRjdky8RvBU8ynmpSJ7hzfsH3p2ukbfLcpcHz4t+vnSeXp+ZtdQ5noz/E5u+O6/LxqXl3g6CPR2TzpeZtfNruGMtGv43N3xx13VOHeNBpV1PwMTVcAWYfnbfZRLgAAYEPxC3+8kOAwPGiebuoGQjdmywoetZ5se7BDH/hXe2/yZVPgOGt0SXmGdXQJZWIJnvhSfl41ry5w1DyVi2yeDPk/aHYJZWJJnjhxogr3pnnssccmae68885qajtC/l2XCwAA2GB08Z98JQYH5Q+Yf88801TwuKyRRzoSluDf3Zvf6HvgWOdjv58vJ//m7qm0XUKZWIJ1ZSJL6x48PV/GDWn/1uwSysSS/Lu/+7sq3NuLgkd/MI573nnnjac3EdJ3XS4AAGCAWNP/2p2dnb/cvQrUotijEQUi+jrk+CJy2WWX4Qr181B5xHyRqeBRI486T8sIHKc6En7nz27CDvXjevzmvTf50gNHfwDKrR/a/ay/V8jSR79208nzZnYJZaJH/bh+/dfz86p58eE4/vVUvc/SRz1v8z6zSygTPevH9utf/3p1PZ+N/+5RNj1d1dOYXZcLAAAYENbkn7nb8s9FbQCpXmP9LmV8EcmCGVyefh4qX2teaD7f1KijfkOk89UnCkz1tdjJdmQ3NLi4flyv/em9N/ky+6qqRhk1re7riq7y9PzNrqBM9Kwf1+vfnZ9XzSvPvXcozAoePW/z18yuoEwsQT+2119/fXUdb4+W00hkHZ632WW5AACAAbGzs/PJqtmfGy1bZTOFApHJj/CzYAaXp5+Hyjeal5gvNM8yFeAvI3CcjEDL7IYGFzce2+xGPwscpf+h+wr+t48y0bPx2Nad16zTQF9TrVtGPnj7yXzNc8yuoEwswXh8MzRdI4wZ/rccGQ8++GDMu8tyAQAAA8ECvy9Uzf7CWB57vpWirxsROA5EPw+VP2W+ynyx+WyTwHEDfM/H3jo5ttnNfl3gKJuWkz7f/KDZFZSJnn3nNW+aHNu681o32qx5db9zvPilJ8+Z2SWUiSU4VS4S/Gup+v/GiB6Uo+l1T1W9+OKLJ/maAACwYVhT/57dFr8T3lJlO4bAcUD6eajUiXq16YGjzhOB4wbox/bZz5y+0ZdNgWPTV1aVl+drdgllYgn6sT2cPCFV0+sCx6avrHqe5r1ml1AmlqQf38OHD1fX72nibxqjTU9ZDem6LhcAADAAqua+M6psxxA4Dkg/D5UxcDxkEjhuiJdfeenk+N5e899986g8wjn7nNkllIkl+Ko3vmJyfO/91fw8z2M8X2bXUCaW5FS5uPfe6hK+OPGcmQAAsGHs7OzcVTX5nWF5/mmVPYHjkPTzUEnguMHGY/xvfzO/+W/jv7NlY15m11AmlmQ8xk9+LT/fbbzk/JP5mL9udg1lYonG4/zkk09Wl/H5ueSSS2JefZQLAABYMVWT3zlV9gSOQ9LPQyWB44Ybj7O+cpgFAU361xSDfUCZWJK/9Uf/ezyXo3s+k5/3Jg+deXJ584TZB5SJJbqnXNxzT3UZb8+hQ4diHn2VCwAAWCHW3F+42+r3gv7pgcBxSPp5qNy6wFHr+9QXfz6dJ/1hEdm8dfSGL/3C5DjLU55yYPRf79kbDJQqjdLGZc0fNftg5WUim+6+/NKXLH2b+vSf/ur/NDnOMvvNY+ZtHzm5TOWTZl+srEyofZi1Ps1Xucjmrat7ykXNbx5LbrvttqnlzD7LBQAArJAunqRah74Cq3UQOA5IPw+VBI6FmxY4uvF4u+95w4HRv/nlA6O/+r1d9V7TsrRmnxA4LtlyhMnV/zwev/nA6PG7D4xOfOnA6I7rDoyOvGhvOvMPzD4hcFyBteXi+utHx48fHz3++OOjEydOjO64447RkSNHsrR9lwsAAFghFtz9ZRXndY7l/R2tg8BxQPp5qCRw3CLf8jN7zn8bf8XUOeuTQQeOm2x8MMocvtzc2DLRJnDcdBcsFy8zAQBgg6livN7QOggcB6Sfh0oCx8JyxNHf+/Szzz1r9Nm7r5vMdz947F3j+fLq66/YM/+2b9wwuvTohZM0euppnK9pWoen+fgtV0/N79IPfPqq0amnPW2yLYl/Z+p/Gs8wda62OnAsRxz9vT+59vAF547Pr893vcycdsap4/JRzlc58ryl0sf5mqayqvyVx2d+98NT87vUt7XBf2++ztz4MrHIiKOn9/pbNxrpZUbtSNYO6Rx7mcjKja9Hy8us3HVpi3Lxb82LzWWUCQAAWDE9jzj+pdZB4Dgg/TxUEjgW+o2Sf9Z73cDpZk7L+U1dvGHTfE3TTZ4CPl/G5ytA0DTdNCoPBZb6LD2Nf1Ya5dH3DWHU122+3XyD+QrzXJPA0fRz7p99G/186ga+zMPT6Fx6p4ICQJ/v5eSt7339OA8vd8qrzEPzssCzT33d5taVCZ2PWevT/Bgc+jb6+fQ2oVxG02MboDLk87Wspul8K41/jmn0Wao8ZB1UferrNldVJgAAYMVYcHdzFed1juX9Ba2DwHFA+nmoJHAszALHeIPo05RO7+tuMjXNb/Z14xcDAlkup/dZPsvQ120SOCZmgaOf/zjNy1VZhmIaH61WnjEgkFnZK8vNstS6KwkcEzW/DBzLdiXmUZYhqc6hMk3ZQZCVvbLcLEutu5LAEQBgS7H47szdMK8XFJcQOA5JPw+VBI6F2c17dkPogYPf2ClNVNPiCJOrm0WNFJSjVHofb0SXqdZdSeCYmN28x/k+zcuJ3vvIUlkmNIpULqtgUuWpHKXSey9ny1brriRwTNT8WF+z9HGap8/KRPa1dH1l1duiMh8tF9MuS98Wk8ARAGCLqYK8zqmyJ3Ackn4eKgkcCxcNHOtUGh9ZcBU0+tfQYp4EjiePUbadfTlrfYsEjnX6OVZgEKerk8F/HxfzJHA8eYyy7exDD+iyea7mx/qapY/T9L5OP8f+lWZX+atc6H3Mh8ARAABWyc7Ozl1VrNcZlud9VfYEjkPSz0MlgWPhvIGjvjY2ax80v/zKof/GLaYhcFxdmcimu/MGjjrX8TeumUqvQDFOyzoTCByXXyb6ChzL812qNOXvFgkcAQBgiFTxXmdU2Y4hcByQfh4qCRwL5w0c/XO84fMRRv+9kt6XQaGmyfiZwHF1ZSKb7s4bOPrDkGK58RFG/42j3scyFEelfVqZZpn6tpgEjomaP0/g6KOJfv7jNP+s97HMeDlqSrNMfVtMAkcAgC3HYr237IZ8+2dnZ+eaKtsxgwocRTa9b++66650+rL181C5lYFjnZq/SOBYfu1QxtEFH12Mljenek/gePL4ZNvZl3G9pZo/b+Aoy68dylhmvJxFszJB4Hjy+GTb2Yd+HjK9jsb3/tnf103zEeVo/H2jl7OoP33V0+h92R4ty7BdBI4AANDJV1b9SaoRRhxNkU1ftn4eKrcucMS9hnOxlYEj7jWcC8oEjg3ngsARAADGWOC38N9zaNkqmykIHE2RTV+2fh4qlxE4/mmlww3hwAznYlk3hFrXe3bfjqFMDMxwLigTODacCwJHAACYYCHOD4wDnfm4sFp8D4P9quojjzwytuSGG26YSn/77bePX50nnnhiMt/TxM/ltMg3v/nNqXTL1s9D5bICR1+f3nNDODDDuVhmkOAqWKBMDMxwLigTODacCwJHAADYg4U5r92NdnJ2dna+Yy+1AaMz6MBRxEBRQaHwz85VV101NU3Lxs/+vm5a+XlV+nlYsd+On7ObFFye8Vys0J+Jn7PtxOUZz8UKpUwMyHAuCBwBAKA3Bh84xvkaEYzTxAMPPDCVxkcgY5o4P5tWfl6Vfh6GZHaTgsszOyerNttOXJ7ZOVm12Xbi8gzngsARAAB6Y+0Dx1tuuWUqjU/P3tdNKz+vSj8PK5YRxwEZz8UK/V/j52w7cXnGc7FCKRMDMpwLAkcAAOiNtQ8cNcIY01xzzTXj6TFNnJ9NKz+vSj8Plav4jeNBk98uDchwLlbxezb9d4/yp0wMyHAuKBM4NpwLAkcAAOiNtQ8cH3/88ak05XLxvSwDS1l+XpV+HiqX+VTVM8efuCEcnOFcLDNIiH/2SpkYmOFcUCZwbDgXBI4AANAbax84ikcffXT8lVVfpnxYjtD8b33rW9WnvYHjV7/61XFQGacvWz8PlWv/P46HLzh3/Af8eh/zLI3L6E+3Tzvj1PF0/Sl3nFf62buv27P8Itbl4X8Er+2p+2PvS49eOE6jfb3tGzdMzetq2ypXdUPYaZnQsSyPk6u8s+Mc/7Bf78v58vIrLx3PP/vcs8blIkvTVp33uj/3b7Me/7P4+Cf0rqaX0+ZVeVRuRJko1THWn+tn8+rWpXOhc6L5Wj5L06Y+t1VluG5bmsqr2je1GXFaF/r6TAJHAADojbUPHDXNp2uZmN59+OGHx/P1qs8izp+1/LL081C51oGjbsx0g+af/WY8Wq7Db8p106gbrFnbMGt+Gz1ILaf7Tai2Q9uj99rmmEbT/CbUA8gYFClojsdgEZVn5doHCTp+WTAlFXgr7/KG3o+rbsD9hrzMw7dLy6qzIcunrXXnWrZZj6ZpXzTd9ynOV/6aHqfNq2+HuXGBY1NAVrcu1TNN1znRcc/StanPbfUOq3Idsm153W/nRqlvj0ngCAAAvTGowHFehYK+bN466uehcq0DRy1bN7IkPXCM0/S57KGvy0cBWXZjPo/ahixwzG5e/YbUP2fb7yNNcZo+l8HFPGr5yrUPEuqWjTf75bHStHiTXZ6b8rzI7NzMUvl6WZBlUNFmPdn593IapylNU92YpZav3LjAUXmVZcCPc926NK0cZdQ0BYl636Y+t9XPsVvO17Sm8io98IzT9qtvj0ngCAAAvUHgOCD9PFSubeDoPe3ZPFfz/cZu1jT/uqvrIwaL3vzJeENX5uGjSXGa1DS/KdT7ciQhuyFscyya1LKVax0k6MZeoz7ZPOXp5yMGDSoL2fo0zTsY6joPsmlN6lz66LCWLQPHNuvJlsvOv46Fr2sRlV/lRgWOdQGVpum41tX3bJrKmpe3NvW5jb5+tUdZJ0Gb8hqnle3aflR+lQSOAADQGwSOA9LPQ+XaBo5aTjdr2TzpXxsrp/tXVf2GatZo4H4CRy3nQUqZR932aZoHBvF9mabNtLZq2cq1DhK0XNkpIHWO4zGNgaOXB//sapoH7fF9mSbmNY9atjy3bdaTrbMpGCqntVXLVm5U4Kh61/Q1Xh3bcl11xzeWnTb1eV6zwLFNeXX1eT+dB6VaRyWBIwAA9MZaB46bpp+HyrUOHJtu2jU/6+lXUOg3eW6Zj6Z5AJLdSLZRN6fxBrXMQ5/rgoS6ICemyaaVIw5t1bKVax84ltPUuRBvnpUmHtPs5lxqmp8fva8L4JvKYJNZnm3Wo/fl/LrpmjbPaFdUy1ZuVOCofJoCuay+Z9Ok8vHpep1Vn+c1K5ttyqu7328ilCqvSgJHAADoDQLHAennoXKtA8dsuvSHR2TzNF299v7ZRxM8UNTNlwJLn19309hktkz2Oa4nTvcbTb3PgsEyL5+26JMUtWzlRgWO2W+/9NmDMNnmRlzvY5mJaWJe86hly4CizXr0PgsGNT2bpq9cl9PbqGUrNy5wbDpnWd3NpskycJxVn+c1K5ttyqvrD/SJ0/aj8qokcAQAgN4gcByQfh4qNzJw1LzsBtx/t1hOj78t02udbW8As2WjStN0AxiDhGyddcuVN45t1bKVGxU4xvwylSbe/JfL+rHX++zYZsu1NeYfp81aj96XgU9dYJOto61atnLrA0eZTYt1uE19ntcszzbltZxeTltU5VVJ4AgAAL1B4Dgg/TxUbmzgmE2vCxzjDZpu8qLxITltv/ZX5iE9D6k0dV8ji9M0glH+RqlpuW0PEsrl4vF3lUbnVO+Vxkec43JS0/x8Z78rq1uurVq2PF9t1qP35chytpzUNN/PedWylQSOpqaVD5rRNO+galOf5zULHNuUV7duXxZVeVUSOAIAQG8QOA5IPw+Vax04Zl/jnHWzpHlxNNK/zpjlJbu6+cryKLfFf3vpn/0mMd6wlsvE6Ys+QVHLVq594FjePJcqTRk4aFr8PWr2VWd9jmVEn7OvJrZVy9eNEDWtxwMUlduYJiu/ml5Oa6uWrdy4wDGrP25dfS/rZvY10DLvcpl5bRrFnFVeZd2TXhdVeVUSOAIAQG8QOA5IPw+Vaxs46mYpu3Gv+yqX6zd80XlvJBcJJrP02baUafzmz832Ofst3zyG/Nc6SNDobNO5lMq7DBz9+EVjYCY9YHPLkeBZ5a5UabPAcdZ6pAcUrj6Xaer+tqGtIf+NChzrvnXgNtVtnYu4PWWw3qY+Z9PqrAsc25RXqelNT56e17A+AkcAAOgNAscB6eehcm0DR7mfZfdrdrO+KrUt+9mecC7WOkio+xrfslzluksV5GSBaVvDudiowFF2mde87ueczGvX+xnOBYEjAAD0BoHjgPTzULnWgaNG35Z5I+bud4Sva/e7LeFcrH2QoGXLEcVlqKA1Gx1clfs5hjKci40LHDUqvaqOny73o8k+9jGcCwJHAADoDQLHAennoXKtA0e53+XXXd0c6ut32by2hnOx9kHC0IL6VagAdtHfu7rhXGxc4Ci7zm9o9rF/4VwQOAIAQG8QOA5IPw+Vax844v4N52IjgwSc33AuKBM4NpwLAkcAAOgNAscB6eehksARY3kgSMCx4VxQJnBsOBcEjgAA0BsEjgPSz0MlgSPG8kCQgGPDuaBM4NhwLggcAQCgNwgcB6Sfh0oCR4zlgSABx4ZzQZnAseFcEDgCAEBvEDgOSD8PlQSOGMsDQQKODeeCMoFjw7kgcAQAgN4gcByQfh4qCRwxlgeCBBwbzgVlAseGc0HgCAAAvTEVOOKgfLP5KlOB47PNlQSOOBivNI+aR8yVBgk4GCkTWLqqMgEAAFuAAhECx2H6JvNS80WmAsenmQSO2+vbzNebLze/zzzdJEjYbikTWLqqMgEAAFuAAhEFJM8yzzMvNn/c1NckrzD1tRdcrjruOv66+F9kHjYPmk81lxU46mbjHPNl5mtMBbG6IVFvdrbN2J865jr2P2nqq8sXmM81n2GeYi4rSKBMDEfKBJauukwAAMAWoEBEAckzTX2tRTcAl5j/wFQAqa+84HLVcdfx13k433yeucyvoOkm4+mmflf5QvNHzB8zLzMvN7Ntxv7UMdex182gfrekDh6NQOsc6avmlIntkzKBpasuEwAAsAXEGwBdZJ5vvsT8YVO/kdAFCJerjruOv37b+P3mWabOz7J6jX0UWp0J6rHWTaF6ry80KRPLV8dcXzvTOdDNoM6JOhKW8dVlhzIxLCkTWDqEMgEAABuOAhFdVDTqqK+06CurZ5sa5dIIJC5f/S5Fx1/nQV9RPc1cxtdUHe9MONXUTaFGFHQTou3Kthf7V8de50CdO7oZ1O+Sl9WRICgTw5MygaWrLhMAALAF6KKir7Loq5C60Gh0S0Gkfr+Cy1fHXuo86HzovCz7q0YKUnXDod5q3RgqeKVMrE4de50DnQt1Iujc6BxRJrZXygSWDqFMAADAFqALiy4wClCkLjht/ZPKj5t6qptP/2vzD81bq/dxmTq1vNLLmJfe/7L5cPUal2lSX+GJ+bRVy2nbXeXxD03N03vtq/bJp7nvNxdZX6bOg87JKi78Wl8sE9n24fL1MuHnZ5lQJoYpZQJLV1kmAABgy/CLTVsVKPl7/b7l3up9nB7f1xmXlV8x9UN/+elqmmyTl/yYqeCubfo6tf6/qN4rTz21zueVeXexvugQyLYLV+cQyLYLV+cQyLYLVycAAMDg+aipIE8ogNIf2OvvJPTeeYf5ud23U+9LFITpwTBCy+v9+8w/1oQKvdcDAUR8L7QtIq57EeLy2gZtl9B2+74KT7ff9QEAAAAAAGwsCtpi0KRROgVX0oMtRwGjRhfrgkZNjwGi8lUg6HlGlK4MGiNtA7k3mmUeZWCrwNG3Rfuk+UKfFSQLAkcAAAAAAIAEBVAxYFIQFQMujcx5kCWaAkdNj0GjPmvU0ikDs3kCR+XVpNLq1SnXlX1WMKmA1inTAAAAAAAAbD0KAssRRQWO+o2iEwNHvXrAGN8LBYBlMKlALgaFMTCLAWNd8Ng2kFNwWq47CxQj+qzlNOLoappeAQAAAAAAoEKBUhy189/9KZhU8KhgrAy4MvRV0TIvDwQ1Xfn66OI8tFm30O8nS8qAOH5VNfvarGi7PgAAAAAAAAAAAAAAAAAAAAAAAAAAAAAAAAAAAAAAAAAAAAAAAAAAAAAAAAAAAAAAAAAAAAAAAAAAAAAAAAAAAAAAAAAAAAAAAAAAAAAAAAAAAAAAAAAAgC3mLPNd5p3m35qjBdRyWl75KD8A2CzONz9qfsPM2oA2/pGpPJQXAGwutBcAAAAAAAAAAABbwDPNf27umFknX1cqf61H6wOA9eIC88tmVre7VOvQugBgfaG9AAAAAAAAAAAA2CJuMbMOvCmfc/DA6D1vODD6/IcPjP7NLx8Y/cnnD4z+6vcOjP778d1XfdZ0zVc6pc/ySdT6AWC4PMv8AzOrv1MeedGB0fXvPjC647oDo+M3Hxid+NKB0eN376r3mqZ5SqO0WR6JWre2AQCGT/v24siR0fXXXz+64447RsePHx+dOHFi9Pjjj4/Ve03TPKVR2iyPRNoLAAAAAAAAAACAJfKj5n82s8660SlPOTD6xXcdGP3Xew6MRl/fv8pH+SnfbH2V2h5tFwAMgyvMJ82svo4On3NgdNtH8jq/iMpLeWbrqtS2aJsAYHg0txeHD49uu+22UVcoL+WZrauS9gIAAAAAAAAAAKBn7jOzzrnRrR/KBwK6VuvJ1l+p7QOA1aFfB50w99TPQ2ceGN37q3m97tJ7PrO7rmwbTG0bv2ACGAb17cWhQ6N77723GiLsj3vuuWe8rmwbTNoLAAAAAAAAAACAjvmEuacz7tznHBj929/MO/379t/durv+bLtMbS8ALJdfN/fUx0vOPzB68mt5Pe5TrVPrzrbJ1LYCwOrI24tLLhk9+eST1XDg8tA6te5sm0zaCwAAAAAAAAAAgA74nLmnA+726/JO/mWr7ci2z9R2A8By+LK5px7q14ZZvV2m+lVltm2mthkAlk/eXtxzTzX8tzr0q8ps20zaCwAAAAAAAAAAgH1wlznV6fbsZ3b3/4xdqe3RdpXbamr7AaBf7jWn6p7+TzGrq6u05j8ete0AsDz2theHD1fDfcOh5j8eaS8AAAAAAAAAAAAW4IPmVGfby16Qd+RnHn3l9LLzeN45B0bf/q083ya1fUl+v2ACQD981Jyqcxe/NK+fpff/xvRy83rtT+f5NqltS/LSPgBA/+xtLy6+uBria8+xY8dGBw8enMqnzmuvvXb02GOPVUvOh7YtyZP2AgAAAAAAls53IWIrt5XsWCAOybPNPR1t/+Ff5p34mXHAUQMLWZpSDTIePP3kcnd+Ik9Xp7bPly18jrluZOcFcUg+z9xT3x68Pa+fpXHAUe1Flibz/W8+uZy+nJClqVPb5ssWnmOuI9l5QRyieXvx4IPV8N5svv3tb0+W04Dj3XffXc3Zy/333z81KKlBynnRtvnyhevaXgAAAAAAwJrggdR3Vz6l8pTK70HEsV4nvI6ovsTOiE2FNgLXzV81pzrY5v010SIDjvLh3z65nAYfszRNajt9+eAxc+jQTuC6eZM5Vdeuf3deLzMXHXCUcdDx1g/laerUNvqywV8z1wHaCVxX97YX119fDe214+jRo5Nl2/5q8aKLLposo0HIedE2+vLBdWkvAAAAAABgzfCgPwtEEHHa081nmKeZp5pPM59qqoNMnWXqOPM6tSnQRuDG+LWb8s77OhcdcNSvGn25eQchpLbTlw8eN4cK7QRujMdvzutl5n4GHPXLRl92nvZFaht92eB95pChncCN8/jx49WwXjtuvfXWybIaSHz44YerOf2hbYzbXDn09gIAAAAAANYQBf3+7eIsEEHEafX4ob9n6tGGzzKfaWoAUoOPPvC4SYOOtBG4Uf7N3XnnfZ3zDDjqUaoaaIyDCBe9OE87S22n5xH8W3OI0E7gRvn4HO3EPAOOj/3+bvr4y0Z596/k6ZvUNsY8KofaRgjaCdxIH3/88WpYrz16rGrd/zeed955o7e//e3jgcmuBiO1jcm6htxeAAAAAADAglgIcOHOzs415s3mn5p/aX4nqM93mV8wP6n01aKdoODfH2GUBSKIOO3LzJeaLzSfbz7XfLapgcenm/rF4yYNOtJG4Eb50B17O+6bjAOObdRgowYT5v21UukD/yrN/z+aQ4R2AjfKP/9yXi8z44BjW9Wu6BGqGoDM8mzjiS+leT9oDhXaCdxI//zP/3w8qLcf9D+O11577dSjU0s1EKmBykU4ceJElueQ2wsAAAAAAGiB3e6/dmdn577dO/9u0GCkvby2WsVcKPDXoIgCf/0ya08gctlllyFurVmdMF9jXmpeZGrwUQOP32ceMn3QUf/xEh+vuq7MbCN+589uQhysr/7JH9lTZm+/bm/HfZNtfuGoQQP9ktHT6f1+BhLkl649mV/wdnNo0E7gWvuqN75iT5n98i/m9TKz7S8c42OWpT5n6dp6h7VlMb/KL5tDhHYCN8K0vfjyl3ej8p7QfzZqsNHX9/73v7+a05477rhjapsrh9peAAAAAABAA3aLr0HG7+ze7S+F91SrnokH/xoc0a+y9gQi2SAM4raY1QnzTebl5o+ZrzQvMA+b+qWjHrGqx6uWv3JcV2a2EVlnDOJQfN8vvX1Pmf2hw3s77ptsM+Do6pGqcV3H3pena6O2M+ZV+TPm0KCdwLX2Zz9x5Z4ye+RFeb3MbDvg6L79dSfTHzx98S8naBs9n+DV5hChncCNMG0vjhypYvDZ3HnnnZPBQw0kzsPRo0cn65wXbaMvGxxqewEAAAAAAAV2W3+mHoG6e4e/GvRLympzaonB//eaewKRbBAGcVvM6oT5NlODjq839UvHl5s/aOpXjnq06ummOtNUrzZpwDFtI7LOGMQh+bK//6I95fbT753uuG9yngFHt/y1Y5amSW2fLx/8mjlEaCdw7X3pj5z89ZB70wfy+lk674Cj1H82xnXN+x+ON/7c9PKVf2QOFdoJ3BjT9uKmm6oQvBn9J2Ncru0jUjU46cvo/x3n4cYbb5xaZ+WQ2wsAAAAAAAjs7P7P4mCw7bm52rQ9KPjXYx8ZcERMzOqEeaX5ZvOo+SrziPli81xTA45nmJs04NjYRmQdMYhD8jf+71/cU27lzf8k78gvXWTAUV7709Pr068fs3Sl2q64XPAF5hChncC198a7Pran3MrbPpLX0+giA47y4d/e/YWjL6tfPmbpSrVNvkzh+eZQoZ3AjbG2vbjttir8buaxxx5L/6tRv2A8duzYRA0sxkepSv3P4zxom+LywSG3FwAAAAAAYNgtvX7VuMxHp7am2q4fqDZ1AgOOiA1mdcJ8u/kW8w3mq81XmD7gqP9x1ICj6hMDjogD8Zfv/NCesis/dtXezvzSRQccZRyIkLd+KE/nanti+uCPmEOFdgI3wk/+1gf2lF0569HIiw44urGNOe+c5kesals8baH+X3rI0E7gRlnbXhw7tht9t0S/eLz11lvTwUV91nQ9hlWDlPOibYn5BYfeXgAAAAAAbD12S//a3Tv7waNxkgkMOCI2mNUJkwHHYNYJgzhEf/Ornxw95ZSn7CnD8o8+u7djf5lq/dl2mf/NfJ45ZGgncGO88V9/dE/5lYfOPDB66I68/i5DrVvbkG2bqf+SHjq0E7hx1rYXhw6NHnrooSr2Xj5at7Yh2zZzHdoLAAAAAICtxm7rL9y9u18bJr90ZMARscGsTpgMOAazDhjEIfuan3rlnnIsv//sA6PjN+/t6O9Tre/c5+zdlsovmusA7QRunK949fl7yrG85PzlDjxqXVpnti3mH5jrAu0Ebqy17cUllyx14FHr0jqzbTHXqb0AAAAAANhqdnZ2/rK6zV8L9HjVatMZcERsMqsTJgOOwazjBXHo6teOz3nes/aUZ/cX3nZg9Fe/lw8A7Fflq/yz9Vb+J3Pov2qM0E7gRvrLv/1PR6d8T/6raDnrUav7seHRqfJJ8yJznaCdwI12Znsx56NW56Hh0alyHdsLAAAAAICtZWdn55rqVn+t0HZr+xlwRGwwqxMmA47BrNNlE3z5pS+Z7OOnvvjzaZpZvvOaN+07D+zXW7/2S6MfuuQHJ+cp81lnHBh95B0HRvf9i3xgYJZaTssrnyz/4FfNc8x1Y2vbiS72MbY12XxcvRpIeN4LnjN1vksvfumB0Y0/d2D04O15O9CklrnpA7t5ZHkHT5jrOnCwle2Erv2+f6rrWZo2dpEHLsdW7cXFF49uvPHG0YMPPliF5u3RMjfddNM4jyzv4Dq3FwAAAAAAW8vOzs5d1e3/WqFfZWr7GXBEbDCrEyYDjsGss2UT7GLAEdfL93zsraOnP+N7p8r3Evwb84PmOsOA4wbvI077E1e9euq8L8nPmut8LyG2sp3oasAR19MVtRe/bgIAAAAAwJqigbtqDG+tsO0eP1Z1ZvCfDcIgbotZnTAZcAxmHSybIAOO2+3n/vATo6PveNVUWe/Qz5svNDehjRBb205swz5ivZ/8rQ9MXSs69Lj5RnNT7iXEVrYTDDii22N78f+Yl5mb0E4AAAAAAGw9GrirxvDWDm3/zOA/G4RB3BazOmEy4BjMOlU2wS4GHJseqRrnfeZ3Pzw67YxTJ58zP3jsXVPLR7X82eeelS7nKn+ly5aXbfJw67bF57/1va9P82rah3Xxf/vcz47e9rOXj173P14yesWrz9+zj5XfMtUB+GXzw+YmtxFia9uJLvYxtjV18/Sq+uPpMmfVcS0/q505fMG5o9u+cUO6vGyTh6zbljj4cvX1V0wt43727uv2LLdO6jHNP/uJK0dvevdrR6964ytG51/0wnQ/zf/X/L/Mf2G+1aSdSI7nutvVgGNTHj5P9xWXX3np5HPmrDqu63e2XFTryJZ12+Qh67Yl3h9l7YTuL8pl1tXYXpT7WflfzP/P1JcQvmLeYCr22NR2AgAAAABg69nZ2bmvGr9bK2y7/1TbPzP4zwZhELfFrE6YDDgGsw6UTTAOAvQ94CjrBuPidmRp4nx18pXzZezwzDrqYuegOvfK+e6lRy9sTOfzZN22bJpxn4Pb1EaIrW0nutjHWIeb5tUN4qnDPg4ClgN25fyP33L11Hw3tknZgIIGB3x+3cCm1hW/bFCmi22RrNuWTTPuc5B2ojA7duvuMgccZd0g3qz7gHJ+XVsT7wPKexLNj3lk2yGVt6dT21TOj22R5q/7lxDa6vtcuG3tBAAAAADA1rOzs/PJagxvrdB2a/tnBv/ZIAzitpjVCZMBx2DWabIJxo5+dcRlaWbZdsCxaZAvdgJqmTgvDhTO6rhXh52nnfXrhDqbtkX6vKwDcVP1fS5kIKEwO3abYBf72HbAsW6QTza1NXGgsG4AwNUAgqet+xLELJu2JbYhGriI8zZZ3+dC2onC7Nitu7HM9z3gOOvaW9fWxIFCtRdxXmb8FeWig4FN7V7b+6NN0/e5kAFHAAAAAIAtZGfN/sfRtlePgT1T2z4z+M8GYRC3xaxOmAw4BrNOk00wdoaVneZtbep4b5oXjZ2VWibOi9s4rzEfV+tSR2IcoKiz3Bbp87IO0U01HpMgAwmF2bHbBLvYx6aO96Z50ab2xKfPa1091kCkBgvjLxnrLLelqT3bZOMxCdJOFGbHbt2NZX4/18amPNrmX9eexG2c16weawBTA4VaX/x1dZ3l8k3t2SYbj0mQAUcAAAAAgC1kNBr9wHgkb314bbXps4P/bBAGcVvM6oTJgGMw6zTZBGPH3KIdXk2dZm071GJHYNmxV9d5OK8xHw0i6JeT+sVkuV1N2yJ9nvIr522qvs+FDCQUZsduE+xiH5vqcds63tSe+PT91EsNIMSBA30pQevUuspfXjZty6w2ZFP1fS6knSjMjt26G8v8fupgUx5t869rT7qqlzEfqS8maOBR08tfQtZti2xqQzZZ3+dCBhwBAAAAALaU0Wh04e5Y3uBRzDJhZvCfDcIgbotZnTAZcAxmnSabYOwMW7TDq6nTrG2HmuZ5urIjUIOCPm/W4wk9Hw0UxP9XbMq/ND5GLUvr82Z1em6Svs+FDCQUZsduE+xiH5s63pvmRZvak7b/0So9H603PlK1Kf/S+MvHMu087c0m6ftcSDtRmB27dTeW+f1cG5vyaJt/U3sSn2zQ9PhmqXz0BQS9xrRN+UfjI96ztPO0N5tkPCZBBhwBAAAAALaY0Wh05u6Y3vCoHqN6YbWpE2YG/9kgzLb4yCOP7B49I5uPm29WJ0wGHINZp8kmGDvONNCmDrA2xm/x67PnUXaaNc2LzuqgV2df/OWRtlsDBVpOarChnB+XL3+5VC6vAYrs0YllPrJp3qYaj0mQgYTC7NhtgnEfvQ1oY8xD9aXuODXNiypPT6d6W85Xnfb5Um2a/4pZr/HLBLLcRqWL8+Pysmxn3KZ8ynmbbDwmQdqJwuzYrbuxzOtaqnLfxjjgLz2P/Vx7Z7UnsR1QfVa99jqu7YnLS02Py2u765bP2hm3KZ9y3iYbj0mQAUcAAAAAANB/On6hGqYaBLY9N1ebtoeZwX82CLMtbtuAo++vXrP522hWJ0wGHINZp8kmWHastTV2jjV1mrXtUNM8T6dlsjSy7j+T1MGpTr5ZnXYaKFW6OLiofPTLydjxGTsMy0ek+fRZnZ6bpO9zIQMJhdmx2wSzfW1jzKNpEKBpXrRte6I6q0GAsn3zXz6XdbpUeatNmNXGeDui13J5X66pPds0fZ8LaScKs2O37sYyP4/ldbRu+qx50bbtibZZdbr8P2ctr/sM3W9ky7nZ4GTZxujV52ldcfm27dmm6ftcyIAjAAAAAABM2NnZuWs8gLMibP332cuZ1eakzAz+s0EY3EwdBhxPmtUJc5OC/y+Y79l9m7KVHYSIbc3qhLlJbcQnzaY2QtBOIDaY1QmTdqIwO3aI22JWJ0wGHAEAAAAAYA+j0eg9uyM5/aNHp5rXVKueyczgPxuE2RabfuFY/hrwmmuuGT3wwAOjxx9/fDxdPProo6NvfvObo6uuumrP8vKWW26pUo7G7zVN6bWco/ff+ta3avOQzqyBwrr9aULbE9Num1mdMDcp+P9TM+6bPsdOQzoIERvM6oS5SW2EHpEQ9+07ZjmwQDuB2GBWJ0zaicLs2CFui1mdMBlwBAAAAACARkaj0VuqXx52RpWfYpG5mRn8Z4Mw22KbAccnnnhi/Co04Hj77bePBw+/+tWvTg0+ZoOBccDR0+pVy2qe8orboHXdcMMNe/JxsnVE6/ZH64rbokFOn6aB1Jh228zqhLnJA46lmv8/m3QQIiZmdcLc5IGEUg0s/GOTgQTEGrM6YdJOFGbHDnFbzOqEyYAjAAAAAADMzWh3EPKT5hc0eGh+Z3fkZ/KLRfmn5l3mJ23yhWbjo1LbwoBjg3UDdOW8pl8B6teJjgbw4rw4yCeaBvfi+spBR2fRAUfXmZXPNpnVCZw26zRB3BazOrHl/k0yLT12iNtiVie2XNoJxMKsTpgMOAIAAAAAwFrBgGODTQN0swbvXA1GOk0DjnfdddfUvFINRjoPP/zw1DyHAcfuzeoETpt1miBui1md2HIZSEAszOrElks7gViY1QmTAUcAAAAAAFgrGHBscJkDjuW8TKccEHRmDRTO2mZnVj7bZFYnzE0K/ts8UvVDpvYrbSOyThPEbTGrE+a2PSrxn5pnmbX3EtmxQ9wWszph0k4UZscOcVvM6oTJgCMAAAAAAKwVDDg22DRAN2vwzm074KhHr8Z5pfoFpKP/eIzznFkDhfE/JbP5DgOOJ83qhLnJA476fI3pz2ye2UZknSaI22JWJ8xNHkjQwEFsIwTtBGKDWZ0waScKs2OHuC1mdcJkwBEAAAAAANaKmcF/NgizLS5zwFE88MADU/PdmEeWJm5L9mjWq666avToo49WKXYp00iHAceTZnXC3KTg/wtm2SkYoYMQscGsTpib1EZ80mxqIwTtBGKDWZ0waScKs2OHuC1mdcJkwBEAAAAAANaKmcF/NgizLS5zwFG/cCwHBSOad8MNN0wtH9VAZBPKP25Llkec79QNgm6LWZ0wtyn4H2wH4Vvf+/rx+vUap7/80pfs2cY2vvOaN03l415+5aVpeve0M04dffyWq9NlZ3n4gnMn+dStfxlq++M+ZWmin/ndD4/OPvesqWVKy/OS6eewTq1D68qWlX6ur77+inT+Miy3uXLbOggH2054HZunjn727uvG9dq3/VNf/Pk0nXvbN26Y2e5ovtJly7sfPPauqfWWap7SZMv2rdbr29G2repif/Z7bDXdt6GpLenbcpsraScKs2M3BP0aqfYkm5+5qjrT1fW5D1Uf431PlqZ0v22A9OVXea/QxnK/KhlwBAAAAACAtWJm8J8NwmA3xgFHDfZlaXC1ZnXCZMAxmHWa9K13pu1nkC52YGUdeOq08/laX9aZFTsUlV85v04NYPhy7qoGHLOOvCydGwcJs847HafY2anBmzJNHNCpO7bK2/PQoG853/UB4XmOf5f6NhYykFCYHbs+VRnzdc8aMIyqHsbtnrV8HKy/9OiFaRpN9zR1gwWxEz4bGCvbo3J+H+oYxm1327RVXexPV8dWepu0qnbWt7GQdqIwO3ardp5rzKrrTBfX5z5U3cwGUrO00S7bgFXfK7TR96OQAUcAAAAAAFgrZgb/2SAMdiMDjsM3qxMmA47BrNOkT72zbNFv6MdOO3WA1X0rPg48NA04tE3neueYOhdjZ9qyO8LjcVAnXRx4zNJLpfM0s34p4Ocp6xj1eTr+5bxoXF9TR6If01V0JPr2FTKQUJgdu76Mg42qY1ma0tgRr47pNvU6rqeuM9z1zm5ZdvLHedlAgxvXp2WyNF0Y2wKptip+AWBWW9XF/nR1bKM+4LHstlb69hXSThRmx26VetlSHcjmu0OoM11dn7tS7aZvj6vj0OZeQ/bRBqzyXqGNvg+FDDgCAAAAAMBaMTP4zwZhsBsZcBy+WZ0wGXAMZp0mfekdVYt2ksUOuVkdTrGzrC5tHLSbtU0xrXcGxnUssxPcO920zT7g2qYTsE0aV/vjaeOAzbz77Gmbzpf2wdOVnbB96+stZCChMDt2faiy4ANLbctCHBjwzv668httk8ZtKvc+fVabJOepg4uq9kHbGL+MMU+99XT72Z+ujm00fsGj6QsMfejrLaSdKMyO3aqMZbBpEEsOoc7M0zbMU78WVflqm8r8227nPNvY9liv8l6hjb5thQw4AgAAAADAWjEz+M8GYRC3xaxOmAw4BrNOkz5s+2u3OuPy83Q0qfMqexSYq0G7WZ1h/u378heVbTvJulKDKXW/8mnTCejz2wz41u2b3vv0Nudxkc7Jpl+IdK2vs5CBhMLs2PWh1zU5a5BAddEfY6hyFufF8lRXv2PZnLUu6WnjumI9adMutdmuPmzbVnW1P10c20zPV+1gNr8vffsKaScKs2O3ClXmfJvmuV+ILrvO+LT9XJ+XYazb2Xy3rzYgHr9l3iu00berkAFHAAAAAABYK2YG/9kgDOK2mNUJkwHHYNZp0odtO6ky4y9bZnVGuXEwwpfTAJk66qQe6RoHIrNHmKmTzNNkHYnL7PTz/3bS9mSdbG2Or89vcwzr9q2us7TOtud9mccy6ussZCChMDt2fejrm1VGZ/3arU05bVs2XU8bt23ecjtv/enKttvZ1f50cWwzV3X8fJ2FtBOF2bFbhV2Uk2XXGZ82qw7IedfZpW3rdl9twCr3fZa+XYUMOAIAAAAAwFoxM/jPBmEQt8WsTpgMOAazTpM+nLfzyY2P0Gr7qxYNyPkyszqvYtr4P0+xU7DuW/TL6PjS/vugZ9P/ILU5vnEANpsfjb8ojYOx8/5vpX6tobRtzp3nO+ucdamvs5CBhMLs2PWhr6+pDHhZj48ULo31N3bqR30QvymNG38xFethbJ/alFt9ccHTL/PXOW3bqq72p4tjm7mMNjfT11lIO1GYHbtV2Kb+z3LZdaaL6/My9PZ31nb21QZIT9vmeC9T365CBhwBAAAAAGCtmBn8Z4MwiNtiVidMBhyDWadJH7btpCqNnXMa7MrSlM7b2ZhtW5w2r112hMdOz0WMecUOwFmDHfG4x8ehxc7VWR2DsRNR+WVpXG1P23y71NdZyEBCYXbs+tDX19SRHLdrXmN7EAfPZ3Xaxw7+8heVPlDQZlDdB+DbPDaxS9sOnsgu9qerY1uqvNrm26W+zkLaicLs2K3CZQ44yi7qTBfX52XY9l6urzZgVfcKbfTtKmTAEQAAAAAA1oqZwX82CIO4LWZ1wmTAMZh1mvThIh2AccCqaQCiNHZIzerYj+tQp2GWps55OiT7tk0nYBwsbDoucb/UCVrOjx2jTZ2DcZu07iyNO0+HY5f6OgsZSCjMjl0ftu3MnmXb9ib+qqiu415l139lnLURsWO9aWA9blPbL0905TxtVVf708WxLV3VQIuvs5B2ojA7dquwi2vzsutMV9fnvp2nje6jDVjVvUIbfbsKGXAEAAAAAIC1Ymbwnw3CIG6LWZ0wGXAMZp0mfRg705o65KKxc27ejiUNOnonllQHnr5lr846qY66OH+Rb8q37ZCM6eYZOJ3Htp2AsXPPt0cdn9pGHZ84r2mf4rnRMvqsPJSXjmWcp3VmeUS9Y3LWAHHX+nYWMpBQmB27Powd9/vpTI7lU+UyS+PGuqPyp/VqGb3GDvOmuhvruFQbp2kyDtDLuu2J29xU9xYxbl+bvLvYH9nFsXUXuYZ0pa+3kHaiMDt2q3K/15RYB5ZVZ7q6Pnsamc3fj7FOZ/NLu2wD5KruFdro+1LIgCMAAAAAAKwVM4P/bBAGcVvM6oTJgGMw6zTpS3Uw+XpnPTJMxo6qug66Nmq9GgSLnXXqrPIOwWyZNmpZz6+p8y+ma9upNq/zdgKqY1PbHDv8dHx0nOY5JkpbHlvlqbzbDDTKWC6W+asl6estZCChMDt2fal6qXWqTGXz26jy59vetjyrHMZ6JPVZ07P0mSq/2n61L56HtzWzynbc5qb2ZBHbtlWl+9mfaBfH1suF1p/N79O43UHaicLs2K1KlU/frkUev7vKOrPf67MvI7P5+3Heew23izZAaX3ZedqfZRn3LciAIwAAAAAArBUzg/9sEAZxW8zqhMmAYzDrNOlT7zBS51nbAalN0TsMs3nbanz8bduBoS71dRcykFCYHbs+9cEldUhn8zdVrw+LDJBssjoeOi6rum54PSiknSjMjt0qjYOOq7i+rFL/IlA2bx1d9b1CG337ChlwBAAAAACAtWJm8J8NwiBui1mdMBlwDGadJn3rvxzYlkFHdXrqlwrlfzZtu94ZrHKwql8rxLoQZCChMDt2feu/+NuWQUe1D9rXNr/+3ib9SypqQ7P5yzDWhSDtRGF27Fat7jF0jdH2bcugo9qRrn8lvUqHcK/QxlgXggw4AgAAAADAWjEz+M8GYRC3xaxOmAw4BrNOk2WoTkB/XNiQO5CwH/2/+lY9mBTrQpCBhMLs2C1DDb6pk3kVj9HE1ev/fbfqwZOyPlTSThRmx24o+q+m53mEJ67eodwrtDHWhSADjgAAAAAAsFbMDP6zQRjEbTGrEyYDjsGs0wRxW8zqhMlAQmF27BC3xaxOmLQThdmxQ9wWszphMuAIAAAAAABrxczgPxuEQdwWszphMuAYzDpNELfFrE6YDCQUZscOcVvM6oRJO1GYHTvEbTGrEyYDjgAAAAAAsFbMDP6zQRjEbTGrEyYDjsGs0wRxW8zqhMlAQmF27BC3xaxOmLQThdmxQ9wWszphMuAIAAAAAABrxczgPxuEQdwWszphMuAYzDpNELfFrE6YDCQUZscOcVvM6oRJO1GYHTvEbTGrEyYDjgAAAAAAsFbMDP6zQRjEbTGrEyYDjsGs0wRxW8zqhMlAQmF27BC3xaxOmLQThdmxQ9wWszphMuAIAAAAAABrxczgHxH36MH/UXPrBxwRcY/b1EYI2gnE+aWdQMRZbls7AQAAAAAAaw7BP+L8XmH+lHm5+T+YF5o/aH6f+WzzdPNp5iYE/7QRiPO7TW2EoJ1AnF/aCUSc5ba1EwAAAAAAsOYoKFFwQvCP2N43mz9h/gPz75s/ZL7QPMc8y/Tg/xRzEwYcaSMQ53Ob2ghBO4E4v7QTiDjLbWsnAAAAAABgzfHgX0GKgpVnmAfNv2e+wHypecS81HytqW9XvtH8h6YCID3iBXEbVHl/k6ny/+Pma8wfNfVNYz3a6Pnm2eaZ5mnmU81NGnCkjUBsdlvbCEE7gdhO2gnaCcRZbnM7AQAAAAAAa44H//6Io1NNfVPyWeZzTQU0emzLy0x1ArzSvMRUZ8CrTP2XBOI2qPKucq/yf5GpoP8C80Xm95vqMFPHmTrQ9M191SfVq03pIKSNQGx2W9sIQTuB2E7aCdoJxFluczsBAAAAAAAbQOwA0DckFbgogNG3JvXfEApq9D8R6gg4bOoxLgp41Ckg9U1LxE3Wy7rKvcq/vomv+vA8U98w1iONnmnqW8Yx8Fe92rROQtoIxL1uexshaCcQm6WdoJ1AnCXtBAAAAAAAbAQKUKQCFj2SxTsBFMzo28cKbNQZoG8hK9BRp4B7CHGDjWVdZV+qHqg+nGGqo+zppuqL6o3qzyYG/rQRiLmxrG9zGyFoJxBzY1mnnaCdQMyMZX3b2wkAAAAAANgAvANAQYuCF+8I0DcnFdTo/1YU4ET1OKSu1Dc3rzP/vel/lP9wNU3zyvTnm583v2MqrV71WdPLtPvxMvP/NH09Up81PUv/bjPug95rWpa2K/+JqXVl87pW++371qTOmy/j51bn0+c3HcPSr5papm36ri3LveqCVL1Q/YgBvwf9mxj4r7qNQByqZbnf1jZC0E4g5pblnnaCdgKxtCz329xOAAAAAADABuHBi+tBTV/+L6YGlH4zTHN/x9Q8pfFpSqdpHwvTZFM+i/jXlfovmThdn7UezfNpeuyNT9O3VH263v+FqXlK49O78MdMrU95yyzNMtX50HbE4/+Pqml/GKZJP4Y6NnF6VMcr7p/2N0u3Kst6IreFcr+z44O47Zb1RG4T5b5nxwhx2y3ridwmyn3PjhHitlvWEwkAAAAAAAALoP9w0WDTveNPu3zF1LQ3jj+dxNP+8fjTNO8wP7f7dg9N8+pQeq1Lf+wvXm7WrdvTlturR+Vov7RsSdO8j5q+Lu2z0unzKtG2xOPhvM/U9E+PP03jA7Ha1xLfRx0z378ybwAAAAAAAAAAAAAAAIBGNNjmv3DTwFpEg0/x12+uBg/r0Dyl8cHF8nNbfACxXE4DZz4vqsG4bFBNaLrma1+0v+XnNvQx4KhtaLt+Hzgsz5Gj6T4gGa077kqrPP2YMeAIAAAAAAAAAAAAAAAAcxEHGssBRA1C+bxyQMyXk3UDfMIHBTWoNQ++nAbEyvz9F3n69WWJL6c0dfivM2XToGlGX79w1HbrWOpXinX4QGLdYKBvW5mHD6zGZXX+9Ln8NSQDjgAAAAAAAAAAAAAAANAK/8WhBrnqBpd8YK9u8K5p/iK/cIwDY0pXN5Cp+bKOuvmev/ZZA27l5zbUDThqEFPHcVF9oFT5Z79ebHpcqlAevnxGnO/v26i0AAAAAAAAAAAAAAAAABN8sGnWLxMdpVP68j8Rm37hqMHFuoHFunk+kNf0y0THB9+0TLluH7gr81E6pc8GFpvmlfh2dom2uW4g0Wn6D0bH/2+zzEvLzPp1pOP7x0AjAAAAAAAAAAAAAAAApGgwaZYadIroF3caFPPBR71qcKurQSn/peQsy/Vp8NIH0qTeK6+mQbn90seA4yw0EKp1luclQ/uuY+ADlL6cjlUbGHAEAAAAAAAAAAAAAAAAAAAAAAAAAAAAAAAAAAAAAAAAAAAAAAAAAAAAAAAAAAAAAAAAAAAAAAAAAAAAAAAAAAAAAAAAAAAAAAAAAAAAAAAAAAAAAAAAAAAAAAAAAAAAAAAAAAAAAAAAAAAAAAAAAAAAAAAAAAAAAAAAAAAAAAAAAAAAAAAAAAAAAAAAGBYHDvz/WlC7hwKZZ+sAAAAASUVORK5CYII=)"
      ]
    },
    {
      "cell_type": "code",
      "metadata": {
        "id": "wUBiEQQ68KU3"
      },
      "source": [
        "class MLP(nn.Module):\n",
        "  def __init__(self):\n",
        "    super(MLP, self).__init__()\n",
        "    self.layer1 = nn.Linear(in_features=784, out_features=400)\n",
        "    self.layer2 = nn.Linear(in_features=400, out_features=100)\n",
        "    self.layer3 = nn.Linear(in_features=100, out_features=10)\n",
        "\n",
        "  def forward(self, x):\n",
        "    batchsize = x.size(0)\n",
        "    x = x.view(batchsize, -1)\n",
        "    x = F.relu(self.layer1(x))\n",
        "    x = F.relu(self.layer2(x))\n",
        "    out = self.layer3(x)\n",
        "    return out"
      ],
      "execution_count": null,
      "outputs": []
    },
    {
      "cell_type": "markdown",
      "metadata": {
        "id": "C0yMVGgehWr7"
      },
      "source": [
        "Train and Test the model using functions `train` and `evaluate`\n",
        "\n",
        "  - Check training time and performance(accuracry) and compare with CNN"
      ]
    },
    {
      "cell_type": "code",
      "metadata": {
        "id": "EFIdLEyLh5rT",
        "colab": {
          "base_uri": "https://localhost:8080/"
        },
        "outputId": "c784ff6c-73ef-4d20-c8ce-ea67cb09507f"
      },
      "source": [
        "mlp_model = MLP().to(\"cuda\")\n",
        "optimizer = optim.SGD(params=mlp_model.parameters(), lr=0.001, momentum=0.9)\n",
        "criterion = nn.CrossEntropyLoss()\n",
        "train(model=mlp_model, n_epoch=15, loader=trainloader, optimizer=optimizer, criterion=criterion, device=\"cuda\")\n",
        "acc = evaluate(mlp_model, testloader, device=\"cuda\")\n",
        "print('Test accuracy: {:.2f}%'.format(acc))"
      ],
      "execution_count": null,
      "outputs": [
        {
          "output_type": "stream",
          "text": [
            "  7%|▋         | 1/15 [00:04<01:05,  4.67s/it]"
          ],
          "name": "stderr"
        },
        {
          "output_type": "stream",
          "text": [
            "Epoch 0, loss = 2.241\n"
          ],
          "name": "stdout"
        },
        {
          "output_type": "stream",
          "text": [
            "\r 13%|█▎        | 2/15 [00:09<01:00,  4.66s/it]"
          ],
          "name": "stderr"
        },
        {
          "output_type": "stream",
          "text": [
            "Epoch 1, loss = 1.845\n"
          ],
          "name": "stdout"
        },
        {
          "output_type": "stream",
          "text": [
            "\r 20%|██        | 3/15 [00:14<00:56,  4.67s/it]"
          ],
          "name": "stderr"
        },
        {
          "output_type": "stream",
          "text": [
            "Epoch 2, loss = 1.105\n"
          ],
          "name": "stdout"
        },
        {
          "output_type": "stream",
          "text": [
            "\r 27%|██▋       | 4/15 [00:18<00:51,  4.69s/it]"
          ],
          "name": "stderr"
        },
        {
          "output_type": "stream",
          "text": [
            "Epoch 3, loss = 0.719\n"
          ],
          "name": "stdout"
        },
        {
          "output_type": "stream",
          "text": [
            "\r 33%|███▎      | 5/15 [00:23<00:47,  4.71s/it]"
          ],
          "name": "stderr"
        },
        {
          "output_type": "stream",
          "text": [
            "Epoch 4, loss = 0.558\n"
          ],
          "name": "stdout"
        },
        {
          "output_type": "stream",
          "text": [
            "\r 40%|████      | 6/15 [00:28<00:42,  4.71s/it]"
          ],
          "name": "stderr"
        },
        {
          "output_type": "stream",
          "text": [
            "Epoch 5, loss = 0.474\n"
          ],
          "name": "stdout"
        },
        {
          "output_type": "stream",
          "text": [
            "\r 47%|████▋     | 7/15 [00:32<00:37,  4.71s/it]"
          ],
          "name": "stderr"
        },
        {
          "output_type": "stream",
          "text": [
            "Epoch 6, loss = 0.426\n"
          ],
          "name": "stdout"
        },
        {
          "output_type": "stream",
          "text": [
            "\r 53%|█████▎    | 8/15 [00:37<00:32,  4.70s/it]"
          ],
          "name": "stderr"
        },
        {
          "output_type": "stream",
          "text": [
            "Epoch 7, loss = 0.395\n"
          ],
          "name": "stdout"
        },
        {
          "output_type": "stream",
          "text": [
            "\r 60%|██████    | 9/15 [00:42<00:28,  4.69s/it]"
          ],
          "name": "stderr"
        },
        {
          "output_type": "stream",
          "text": [
            "Epoch 8, loss = 0.372\n"
          ],
          "name": "stdout"
        },
        {
          "output_type": "stream",
          "text": [
            "\r 67%|██████▋   | 10/15 [00:46<00:23,  4.69s/it]"
          ],
          "name": "stderr"
        },
        {
          "output_type": "stream",
          "text": [
            "Epoch 9, loss = 0.355\n"
          ],
          "name": "stdout"
        },
        {
          "output_type": "stream",
          "text": [
            "\r 73%|███████▎  | 11/15 [00:51<00:18,  4.69s/it]"
          ],
          "name": "stderr"
        },
        {
          "output_type": "stream",
          "text": [
            "Epoch 10, loss = 0.341\n"
          ],
          "name": "stdout"
        },
        {
          "output_type": "stream",
          "text": [
            "\r 80%|████████  | 12/15 [00:56<00:14,  4.70s/it]"
          ],
          "name": "stderr"
        },
        {
          "output_type": "stream",
          "text": [
            "Epoch 11, loss = 0.330\n"
          ],
          "name": "stdout"
        },
        {
          "output_type": "stream",
          "text": [
            "\r 87%|████████▋ | 13/15 [01:01<00:09,  4.69s/it]"
          ],
          "name": "stderr"
        },
        {
          "output_type": "stream",
          "text": [
            "Epoch 12, loss = 0.319\n"
          ],
          "name": "stdout"
        },
        {
          "output_type": "stream",
          "text": [
            "\r 93%|█████████▎| 14/15 [01:05<00:04,  4.68s/it]"
          ],
          "name": "stderr"
        },
        {
          "output_type": "stream",
          "text": [
            "Epoch 13, loss = 0.310\n"
          ],
          "name": "stdout"
        },
        {
          "output_type": "stream",
          "text": [
            "100%|██████████| 15/15 [01:10<00:00,  4.69s/it]"
          ],
          "name": "stderr"
        },
        {
          "output_type": "stream",
          "text": [
            "Epoch 14, loss = 0.302\n",
            "Training Finished\n"
          ],
          "name": "stdout"
        },
        {
          "output_type": "stream",
          "text": [
            "\n"
          ],
          "name": "stderr"
        },
        {
          "output_type": "stream",
          "text": [
            "Test accuracy: 91.60%\n"
          ],
          "name": "stdout"
        }
      ]
    },
    {
      "cell_type": "markdown",
      "metadata": {
        "id": "X8Fi0gQmOtNH"
      },
      "source": [
        "Compare the number of parameters between CNN and MLP\n",
        "  - Check which model has more parameters  "
      ]
    },
    {
      "cell_type": "code",
      "metadata": {
        "id": "9PamPKamnIVd",
        "colab": {
          "base_uri": "https://localhost:8080/"
        },
        "outputId": "6a4ec8c2-18c7-4b03-a9b6-a3923ae0ce64"
      },
      "source": [
        "mlp_num_parameters = sum(param.numel() for param in mlp_model.parameters() if param.requires_grad)\n",
        "mlp_acc = evaluate(mlp_model, testloader, device=\"cuda\")\n",
        "print('Total Number of trainable parameters of MLP: {}, Accuracy of MLP: {:.2f}%'.format(mlp_num_parameters, mlp_acc))\n",
        "\n",
        "cnn_model = cnn_model.to(\"cuda\")\n",
        "cnn_num_parameters = sum(param.numel() for param in cnn_model.parameters() if param.requires_grad)\n",
        "cnn_acc = evaluate(cnn_model, testloader, device=\"cuda\")\n",
        "print('Total Number of trainable parameters of CNN: {}, Accuracy of CNN: {:.2f}%'.format(cnn_num_parameters, cnn_acc))"
      ],
      "execution_count": null,
      "outputs": [
        {
          "output_type": "stream",
          "text": [
            "Total Number of trainable parameters of MLP: 355110, Accuracy of MLP: 91.60%\n",
            "Total Number of trainable parameters of CNN: 93418, Accuracy of CNN: 97.63%\n"
          ],
          "name": "stdout"
        }
      ]
    },
    {
      "cell_type": "markdown",
      "metadata": {
        "id": "wEvABgSKNB1H"
      },
      "source": [
        "###**Task 1.Construct CNN by yourself**\n",
        "\n",
        "\n",
        "![image.png](data:image/png;base64,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)"
      ]
    },
    {
      "cell_type": "code",
      "metadata": {
        "id": "B0dYV4ZJPGZt"
      },
      "source": [
        "class CNN2(nn.Module):\n",
        "  def __init__(self):\n",
        "    super(CNN2, self).__init__()\n",
        "    # Construct convolutional layer    \n",
        "    ############# ENTER YOUR CODE HERE #################\n",
        "    self.conv1 = nn.Conv2d(in_channels=1, out_channels=32, kernel_size=(3,3))\n",
        "    self.conv2 = nn.Conv2d(in_channels=32, out_channels=32, kernel_size=(3,3))\n",
        "    self.pool = nn.MaxPool2d(kernel_size=2, stride=2)\n",
        "    self.conv3 = nn.Conv2d(in_channels=32, out_channels=64, kernel_size=(3,3))\n",
        "    self.conv4 = nn.Conv2d(in_channels=64, out_channels=64, kernel_size=(3,3))\n",
        "    self.fc1 = nn.Linear(in_features=1024, out_features=128)\n",
        "    #####################################################\n",
        "       \n",
        "    self.fc2 = nn.Linear(in_features=128, out_features=10) # The output size of last FC layer must be equal to num of class\n",
        "\n",
        "  def forward(self, x):\n",
        "    ############## ENTER YOUR CODE HERE ##############\n",
        "    batchsize = x.size(0)\n",
        "    x = self.conv1(x) \n",
        "    x = self.conv2(x) \n",
        "    x = self.pool(F.relu(x))\n",
        "    x = self.conv3(x)\n",
        "    x = self.conv4(x)\n",
        "    x = self.pool(F.relu(x))  \n",
        "    x = x.view(batchsize,-1) \n",
        "    x = F.relu(self.fc1(x))\n",
        "    ################################################\n",
        "\n",
        "    out = self.fc2(x)    \n",
        "    return out"
      ],
      "execution_count": null,
      "outputs": []
    },
    {
      "cell_type": "markdown",
      "metadata": {
        "id": "BCWHoKixQR52"
      },
      "source": [
        "Now, Let's see you've done well."
      ]
    },
    {
      "cell_type": "code",
      "metadata": {
        "id": "mbv2_J0SQX_P",
        "colab": {
          "base_uri": "https://localhost:8080/"
        },
        "outputId": "83fcc91e-e74b-41c5-ae6b-096875689822"
      },
      "source": [
        "cnn_model2 = CNN2().to(\"cuda\")\n",
        "optimizer = optim.SGD(params=cnn_model2.parameters(), lr=0.001, momentum=0.9)\n",
        "criterion = nn.CrossEntropyLoss()\n",
        "train(model=cnn_model2, n_epoch=15, loader=trainloader, optimizer=optimizer, criterion=criterion, device=\"cuda\")\n",
        "acc = evaluate(cnn_model2, testloader, device=\"cuda\")\n",
        "print('Test accuracy: {:.2f}%'.format(acc))"
      ],
      "execution_count": null,
      "outputs": [
        {
          "output_type": "stream",
          "text": [
            "  7%|▋         | 1/15 [00:07<01:39,  7.11s/it]"
          ],
          "name": "stderr"
        },
        {
          "output_type": "stream",
          "text": [
            "Epoch 0, loss = 2.286\n"
          ],
          "name": "stdout"
        },
        {
          "output_type": "stream",
          "text": [
            "\r 13%|█▎        | 2/15 [00:14<01:32,  7.10s/it]"
          ],
          "name": "stderr"
        },
        {
          "output_type": "stream",
          "text": [
            "Epoch 1, loss = 1.080\n"
          ],
          "name": "stdout"
        },
        {
          "output_type": "stream",
          "text": [
            "\r 20%|██        | 3/15 [00:21<01:25,  7.09s/it]"
          ],
          "name": "stderr"
        },
        {
          "output_type": "stream",
          "text": [
            "Epoch 2, loss = 0.330\n"
          ],
          "name": "stdout"
        },
        {
          "output_type": "stream",
          "text": [
            "\r 27%|██▋       | 4/15 [00:28<01:17,  7.08s/it]"
          ],
          "name": "stderr"
        },
        {
          "output_type": "stream",
          "text": [
            "Epoch 3, loss = 0.225\n"
          ],
          "name": "stdout"
        },
        {
          "output_type": "stream",
          "text": [
            "\r 33%|███▎      | 5/15 [00:35<01:10,  7.07s/it]"
          ],
          "name": "stderr"
        },
        {
          "output_type": "stream",
          "text": [
            "Epoch 4, loss = 0.168\n"
          ],
          "name": "stdout"
        },
        {
          "output_type": "stream",
          "text": [
            "\r 40%|████      | 6/15 [00:42<01:03,  7.06s/it]"
          ],
          "name": "stderr"
        },
        {
          "output_type": "stream",
          "text": [
            "Epoch 5, loss = 0.133\n"
          ],
          "name": "stdout"
        },
        {
          "output_type": "stream",
          "text": [
            "\r 47%|████▋     | 7/15 [00:49<00:56,  7.05s/it]"
          ],
          "name": "stderr"
        },
        {
          "output_type": "stream",
          "text": [
            "Epoch 6, loss = 0.112\n"
          ],
          "name": "stdout"
        },
        {
          "output_type": "stream",
          "text": [
            "\r 53%|█████▎    | 8/15 [00:56<00:49,  7.06s/it]"
          ],
          "name": "stderr"
        },
        {
          "output_type": "stream",
          "text": [
            "Epoch 7, loss = 0.099\n"
          ],
          "name": "stdout"
        },
        {
          "output_type": "stream",
          "text": [
            "\r 60%|██████    | 9/15 [01:03<00:42,  7.06s/it]"
          ],
          "name": "stderr"
        },
        {
          "output_type": "stream",
          "text": [
            "Epoch 8, loss = 0.087\n"
          ],
          "name": "stdout"
        },
        {
          "output_type": "stream",
          "text": [
            "\r 67%|██████▋   | 10/15 [01:10<00:35,  7.05s/it]"
          ],
          "name": "stderr"
        },
        {
          "output_type": "stream",
          "text": [
            "Epoch 9, loss = 0.080\n"
          ],
          "name": "stdout"
        },
        {
          "output_type": "stream",
          "text": [
            "\r 73%|███████▎  | 11/15 [01:17<00:28,  7.05s/it]"
          ],
          "name": "stderr"
        },
        {
          "output_type": "stream",
          "text": [
            "Epoch 10, loss = 0.074\n"
          ],
          "name": "stdout"
        },
        {
          "output_type": "stream",
          "text": [
            "\r 80%|████████  | 12/15 [01:24<00:21,  7.05s/it]"
          ],
          "name": "stderr"
        },
        {
          "output_type": "stream",
          "text": [
            "Epoch 11, loss = 0.069\n"
          ],
          "name": "stdout"
        },
        {
          "output_type": "stream",
          "text": [
            "\r 87%|████████▋ | 13/15 [01:31<00:14,  7.05s/it]"
          ],
          "name": "stderr"
        },
        {
          "output_type": "stream",
          "text": [
            "Epoch 12, loss = 0.064\n"
          ],
          "name": "stdout"
        },
        {
          "output_type": "stream",
          "text": [
            "\r 93%|█████████▎| 14/15 [01:38<00:07,  7.05s/it]"
          ],
          "name": "stderr"
        },
        {
          "output_type": "stream",
          "text": [
            "Epoch 13, loss = 0.061\n"
          ],
          "name": "stdout"
        },
        {
          "output_type": "stream",
          "text": [
            "100%|██████████| 15/15 [01:45<00:00,  7.06s/it]"
          ],
          "name": "stderr"
        },
        {
          "output_type": "stream",
          "text": [
            "Epoch 14, loss = 0.055\n",
            "Training Finished\n"
          ],
          "name": "stdout"
        },
        {
          "output_type": "stream",
          "text": [
            "\n"
          ],
          "name": "stderr"
        },
        {
          "output_type": "stream",
          "text": [
            "Test accuracy: 98.21%\n"
          ],
          "name": "stdout"
        }
      ]
    },
    {
      "cell_type": "markdown",
      "metadata": {
        "id": "J2o2Xb-suGVG"
      },
      "source": [
        "##**(Optional) Improving CNN using batch-normalization**\n",
        "\n",
        "- CNN can be stabilized by batch normailization just like MLP\n",
        "- You should use `torch.nn.Batchnorm2d` for CNN because the output of CNN is 2D×(num of channel)"
      ]
    },
    {
      "cell_type": "code",
      "metadata": {
        "id": "iehAgqzzvjON"
      },
      "source": [
        "class CNN_BN(nn.Module):\n",
        "  def __init__(self):\n",
        "    super(CNN_BN, self).__init__()\n",
        "    # Construct convolutional layer\n",
        "    ##################################################\n",
        "    self.conv1 = nn.Conv2d(in_channels=1, out_channels=32, kernel_size=(5,5))    \n",
        "    self.bn1 = nn.BatchNorm2d(32)\n",
        "    self.pool = nn.MaxPool2d(kernel_size=2, stride=2) # Max-pooling with kernel size = 2×2, stride = 2\n",
        "    self.conv2 = nn.Conv2d(in_channels=32, out_channels=32, kernel_size=5)    \n",
        "    self.bn2 = nn.BatchNorm2d(32)       \n",
        "    #####################################################\n",
        "\n",
        "    self.fc1 = nn.Linear(in_features=512, out_features=128)\n",
        "    self.bn3 = nn.BatchNorm1d(128)\n",
        "    self.fc2 = nn.Linear(in_features=128, out_features=10) # The output size of last FC layer must be equal to num of class\n",
        "\n",
        "  def forward(self, x):\n",
        "    batchsize = x.size(0)\n",
        "    x = self.pool(F.relu(self.bn1(self.conv1(x)))) # Convolutional layer -> BN -> ReLU activation -> max_pooling\n",
        "    x = self.pool(F.relu(self.bn2(self.conv2(x))))\n",
        "    x = x.view(batchsize,-1) # Change the shape of output from [batch_size, channels, height, width] to [batch_size, channels*height*width]\n",
        "    x = F.relu(self.bn3(self.fc1(x)))\n",
        "    out = self.fc2(x)\n",
        "    return out"
      ],
      "execution_count": null,
      "outputs": []
    },
    {
      "cell_type": "code",
      "metadata": {
        "id": "bTK9tEr8yUtl"
      },
      "source": [
        "cnn_bn_model = CNN_BN().to(\"cuda\")\n",
        "optimizer = optim.SGD(params=cnn_bn_model.parameters(), lr=0.001, momentum=0.9)\n",
        "criterion = nn.CrossEntropyLoss()\n",
        "train(model=cnn_bn_model, n_epoch=15, loader=trainloader, optimizer=optimizer, criterion=criterion, device=\"cuda\")\n",
        "acc = evaluate(cnn_bn_model, testloader, device=\"cuda\")\n",
        "print('Test accuracy: {:.2f}%'.format(acc))"
      ],
      "execution_count": null,
      "outputs": []
    }
  ]
}